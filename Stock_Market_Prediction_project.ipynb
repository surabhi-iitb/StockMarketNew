{
  "cells": [
    {
      "cell_type": "code",
      "execution_count": 2,
      "metadata": {
        "id": "czVvjQSlCVpT"
      },
      "outputs": [],
      "source": [
        "import pandas as pd"
      ]
    },
    {
      "cell_type": "code",
      "execution_count": 3,
      "metadata": {
        "colab": {
          "base_uri": "https://localhost:8080/",
          "height": 206
        },
        "id": "QSo5md-mDyC3",
        "outputId": "6aa51623-5338-4a7c-e6f9-dd08f74bca9a"
      },
      "outputs": [
        {
          "output_type": "execute_result",
          "data": {
            "text/plain": [
              "         Date      Open      High       Low     Close  Adj Close     Volume\n",
              "0  1980-12-12  0.128348  0.128906  0.128348  0.128348   0.100323  469033600\n",
              "1  1980-12-15  0.122210  0.122210  0.121652  0.121652   0.095089  175884800\n",
              "2  1980-12-16  0.113281  0.113281  0.112723  0.112723   0.088110  105728000\n",
              "3  1980-12-17  0.115513  0.116071  0.115513  0.115513   0.090291   86441600\n",
              "4  1980-12-18  0.118862  0.119420  0.118862  0.118862   0.092908   73449600"
            ],
            "text/html": [
              "\n",
              "  <div id=\"df-2ef2e35c-b5de-485c-8670-7b05ef23f3af\">\n",
              "    <div class=\"colab-df-container\">\n",
              "      <div>\n",
              "<style scoped>\n",
              "    .dataframe tbody tr th:only-of-type {\n",
              "        vertical-align: middle;\n",
              "    }\n",
              "\n",
              "    .dataframe tbody tr th {\n",
              "        vertical-align: top;\n",
              "    }\n",
              "\n",
              "    .dataframe thead th {\n",
              "        text-align: right;\n",
              "    }\n",
              "</style>\n",
              "<table border=\"1\" class=\"dataframe\">\n",
              "  <thead>\n",
              "    <tr style=\"text-align: right;\">\n",
              "      <th></th>\n",
              "      <th>Date</th>\n",
              "      <th>Open</th>\n",
              "      <th>High</th>\n",
              "      <th>Low</th>\n",
              "      <th>Close</th>\n",
              "      <th>Adj Close</th>\n",
              "      <th>Volume</th>\n",
              "    </tr>\n",
              "  </thead>\n",
              "  <tbody>\n",
              "    <tr>\n",
              "      <th>0</th>\n",
              "      <td>1980-12-12</td>\n",
              "      <td>0.128348</td>\n",
              "      <td>0.128906</td>\n",
              "      <td>0.128348</td>\n",
              "      <td>0.128348</td>\n",
              "      <td>0.100323</td>\n",
              "      <td>469033600</td>\n",
              "    </tr>\n",
              "    <tr>\n",
              "      <th>1</th>\n",
              "      <td>1980-12-15</td>\n",
              "      <td>0.122210</td>\n",
              "      <td>0.122210</td>\n",
              "      <td>0.121652</td>\n",
              "      <td>0.121652</td>\n",
              "      <td>0.095089</td>\n",
              "      <td>175884800</td>\n",
              "    </tr>\n",
              "    <tr>\n",
              "      <th>2</th>\n",
              "      <td>1980-12-16</td>\n",
              "      <td>0.113281</td>\n",
              "      <td>0.113281</td>\n",
              "      <td>0.112723</td>\n",
              "      <td>0.112723</td>\n",
              "      <td>0.088110</td>\n",
              "      <td>105728000</td>\n",
              "    </tr>\n",
              "    <tr>\n",
              "      <th>3</th>\n",
              "      <td>1980-12-17</td>\n",
              "      <td>0.115513</td>\n",
              "      <td>0.116071</td>\n",
              "      <td>0.115513</td>\n",
              "      <td>0.115513</td>\n",
              "      <td>0.090291</td>\n",
              "      <td>86441600</td>\n",
              "    </tr>\n",
              "    <tr>\n",
              "      <th>4</th>\n",
              "      <td>1980-12-18</td>\n",
              "      <td>0.118862</td>\n",
              "      <td>0.119420</td>\n",
              "      <td>0.118862</td>\n",
              "      <td>0.118862</td>\n",
              "      <td>0.092908</td>\n",
              "      <td>73449600</td>\n",
              "    </tr>\n",
              "  </tbody>\n",
              "</table>\n",
              "</div>\n",
              "      <button class=\"colab-df-convert\" onclick=\"convertToInteractive('df-2ef2e35c-b5de-485c-8670-7b05ef23f3af')\"\n",
              "              title=\"Convert this dataframe to an interactive table.\"\n",
              "              style=\"display:none;\">\n",
              "        \n",
              "  <svg xmlns=\"http://www.w3.org/2000/svg\" height=\"24px\"viewBox=\"0 0 24 24\"\n",
              "       width=\"24px\">\n",
              "    <path d=\"M0 0h24v24H0V0z\" fill=\"none\"/>\n",
              "    <path d=\"M18.56 5.44l.94 2.06.94-2.06 2.06-.94-2.06-.94-.94-2.06-.94 2.06-2.06.94zm-11 1L8.5 8.5l.94-2.06 2.06-.94-2.06-.94L8.5 2.5l-.94 2.06-2.06.94zm10 10l.94 2.06.94-2.06 2.06-.94-2.06-.94-.94-2.06-.94 2.06-2.06.94z\"/><path d=\"M17.41 7.96l-1.37-1.37c-.4-.4-.92-.59-1.43-.59-.52 0-1.04.2-1.43.59L10.3 9.45l-7.72 7.72c-.78.78-.78 2.05 0 2.83L4 21.41c.39.39.9.59 1.41.59.51 0 1.02-.2 1.41-.59l7.78-7.78 2.81-2.81c.8-.78.8-2.07 0-2.86zM5.41 20L4 18.59l7.72-7.72 1.47 1.35L5.41 20z\"/>\n",
              "  </svg>\n",
              "      </button>\n",
              "      \n",
              "  <style>\n",
              "    .colab-df-container {\n",
              "      display:flex;\n",
              "      flex-wrap:wrap;\n",
              "      gap: 12px;\n",
              "    }\n",
              "\n",
              "    .colab-df-convert {\n",
              "      background-color: #E8F0FE;\n",
              "      border: none;\n",
              "      border-radius: 50%;\n",
              "      cursor: pointer;\n",
              "      display: none;\n",
              "      fill: #1967D2;\n",
              "      height: 32px;\n",
              "      padding: 0 0 0 0;\n",
              "      width: 32px;\n",
              "    }\n",
              "\n",
              "    .colab-df-convert:hover {\n",
              "      background-color: #E2EBFA;\n",
              "      box-shadow: 0px 1px 2px rgba(60, 64, 67, 0.3), 0px 1px 3px 1px rgba(60, 64, 67, 0.15);\n",
              "      fill: #174EA6;\n",
              "    }\n",
              "\n",
              "    [theme=dark] .colab-df-convert {\n",
              "      background-color: #3B4455;\n",
              "      fill: #D2E3FC;\n",
              "    }\n",
              "\n",
              "    [theme=dark] .colab-df-convert:hover {\n",
              "      background-color: #434B5C;\n",
              "      box-shadow: 0px 1px 3px 1px rgba(0, 0, 0, 0.15);\n",
              "      filter: drop-shadow(0px 1px 2px rgba(0, 0, 0, 0.3));\n",
              "      fill: #FFFFFF;\n",
              "    }\n",
              "  </style>\n",
              "\n",
              "      <script>\n",
              "        const buttonEl =\n",
              "          document.querySelector('#df-2ef2e35c-b5de-485c-8670-7b05ef23f3af button.colab-df-convert');\n",
              "        buttonEl.style.display =\n",
              "          google.colab.kernel.accessAllowed ? 'block' : 'none';\n",
              "\n",
              "        async function convertToInteractive(key) {\n",
              "          const element = document.querySelector('#df-2ef2e35c-b5de-485c-8670-7b05ef23f3af');\n",
              "          const dataTable =\n",
              "            await google.colab.kernel.invokeFunction('convertToInteractive',\n",
              "                                                     [key], {});\n",
              "          if (!dataTable) return;\n",
              "\n",
              "          const docLinkHtml = 'Like what you see? Visit the ' +\n",
              "            '<a target=\"_blank\" href=https://colab.research.google.com/notebooks/data_table.ipynb>data table notebook</a>'\n",
              "            + ' to learn more about interactive tables.';\n",
              "          element.innerHTML = '';\n",
              "          dataTable['output_type'] = 'display_data';\n",
              "          await google.colab.output.renderOutput(dataTable, element);\n",
              "          const docLink = document.createElement('div');\n",
              "          docLink.innerHTML = docLinkHtml;\n",
              "          element.appendChild(docLink);\n",
              "        }\n",
              "      </script>\n",
              "    </div>\n",
              "  </div>\n",
              "  "
            ]
          },
          "metadata": {},
          "execution_count": 3
        }
      ],
      "source": [
        "url = \"https://raw.githubusercontent.com/priyam-g/IPL_project/main/AAPL.csv\"\n",
        "df = pd.read_csv(url)\n",
        "df.head()"
      ]
    },
    {
      "cell_type": "code",
      "execution_count": 4,
      "metadata": {
        "colab": {
          "base_uri": "https://localhost:8080/"
        },
        "id": "LNjesHQXD01Q",
        "outputId": "a7e218c4-4f2b-427f-c382-356f3b89e14a"
      },
      "outputs": [
        {
          "output_type": "execute_result",
          "data": {
            "text/plain": [
              "DatetimeIndex(['1980-12-12', '1980-12-15', '1980-12-16', '1980-12-17',\n",
              "               '1980-12-18', '1980-12-19', '1980-12-22', '1980-12-23',\n",
              "               '1980-12-24', '1980-12-26',\n",
              "               ...\n",
              "               '2022-03-11', '2022-03-14', '2022-03-15', '2022-03-16',\n",
              "               '2022-03-17', '2022-03-18', '2022-03-21', '2022-03-22',\n",
              "               '2022-03-23', '2022-03-24'],\n",
              "              dtype='datetime64[ns]', name='Date', length=10409, freq=None)"
            ]
          },
          "metadata": {},
          "execution_count": 4
        }
      ],
      "source": [
        "df['Date'] = pd.to_datetime(df['Date'])\n",
        "df.set_index('Date', inplace=True)\n",
        "df.index"
      ]
    },
    {
      "cell_type": "code",
      "execution_count": 5,
      "metadata": {
        "colab": {
          "base_uri": "https://localhost:8080/"
        },
        "id": "4xvkhKAXzh_G",
        "outputId": "40cb8d97-ded1-4e6d-e2f4-43152c5983a0"
      },
      "outputs": [
        {
          "output_type": "stream",
          "name": "stdout",
          "text": [
            "Open         float64\n",
            "High         float64\n",
            "Low          float64\n",
            "Close        float64\n",
            "Adj Close    float64\n",
            "Volume         int64\n",
            "dtype: object\n"
          ]
        }
      ],
      "source": [
        "numeric_columns = df.select_dtypes(include=['object']).columns\n",
        "\n",
        "df[numeric_columns] = df[numeric_columns].astype(float)\n",
        "\n",
        "print(df.dtypes)"
      ]
    },
    {
      "cell_type": "code",
      "execution_count": 6,
      "metadata": {
        "colab": {
          "base_uri": "https://localhost:8080/",
          "height": 439
        },
        "id": "wK_0A3LoD4Om",
        "outputId": "af2f3cc8-b02c-4a2d-9686-17cb78eb3522"
      },
      "outputs": [
        {
          "output_type": "execute_result",
          "data": {
            "text/plain": [
              "<Axes: xlabel='Date'>"
            ]
          },
          "metadata": {},
          "execution_count": 6
        },
        {
          "output_type": "display_data",
          "data": {
            "text/plain": [
              "<Figure size 640x480 with 1 Axes>"
            ],
            "image/png": "[encoded data removed]"
          },
          "metadata": {}
        }
      ],
      "source": [
        "df.plot.line (y=\"Close\", use_index=True)"
      ]
    },
    {
      "cell_type": "code",
      "execution_count": 7,
      "metadata": {
        "colab": {
          "base_uri": "https://localhost:8080/",
          "height": 455
        },
        "id": "soP3pX54D707",
        "outputId": "ab9bad4a-f46f-418f-8ae4-3e6a78b0594c"
      },
      "outputs": [
        {
          "output_type": "execute_result",
          "data": {
            "text/plain": [
              "                  Open        High         Low       Close   Adj Close  \\\n",
              "Date                                                                     \n",
              "1990-01-02    0.314732    0.334821    0.312500    0.332589    0.266078   \n",
              "1990-01-03    0.339286    0.339286    0.334821    0.334821    0.267863   \n",
              "1990-01-04    0.341518    0.345982    0.332589    0.335938    0.268757   \n",
              "1990-01-05    0.337054    0.341518    0.330357    0.337054    0.269650   \n",
              "1990-01-08    0.334821    0.339286    0.330357    0.339286    0.271435   \n",
              "...                ...         ...         ...         ...         ...   \n",
              "2022-03-18  160.509995  164.479996  159.759995  163.979996  163.979996   \n",
              "2022-03-21  163.509995  166.350006  163.009995  165.380005  165.380005   \n",
              "2022-03-22  165.509995  169.419998  164.910004  168.820007  168.820007   \n",
              "2022-03-23  167.990005  172.639999  167.649994  170.210007  170.210007   \n",
              "2022-03-24  171.059998  174.139999  170.210007  174.070007  174.070007   \n",
              "\n",
              "               Volume    Tomorrow  Target  \n",
              "Date                                       \n",
              "1990-01-02  183198400    0.334821       1  \n",
              "1990-01-03  207995200    0.335938       1  \n",
              "1990-01-04  221513600    0.337054       1  \n",
              "1990-01-05  123312000    0.339286       1  \n",
              "1990-01-08  101572800    0.335938       0  \n",
              "...               ...         ...     ...  \n",
              "2022-03-18  123351200  165.380005       1  \n",
              "2022-03-21   95811400  168.820007       1  \n",
              "2022-03-22   81532000  170.210007       1  \n",
              "2022-03-23   98062700  174.070007       1  \n",
              "2022-03-24   90018700         NaN       0  \n",
              "\n",
              "[8121 rows x 8 columns]"
            ],
            "text/html": [
              "\n",
              "  <div id=\"df-2251879a-14e8-48cf-9270-0fa630c10e42\">\n",
              "    <div class=\"colab-df-container\">\n",
              "      <div>\n",
              "<style scoped>\n",
              "    .dataframe tbody tr th:only-of-type {\n",
              "        vertical-align: middle;\n",
              "    }\n",
              "\n",
              "    .dataframe tbody tr th {\n",
              "        vertical-align: top;\n",
              "    }\n",
              "\n",
              "    .dataframe thead th {\n",
              "        text-align: right;\n",
              "    }\n",
              "</style>\n",
              "<table border=\"1\" class=\"dataframe\">\n",
              "  <thead>\n",
              "    <tr style=\"text-align: right;\">\n",
              "      <th></th>\n",
              "      <th>Open</th>\n",
              "      <th>High</th>\n",
              "      <th>Low</th>\n",
              "      <th>Close</th>\n",
              "      <th>Adj Close</th>\n",
              "      <th>Volume</th>\n",
              "      <th>Tomorrow</th>\n",
              "      <th>Target</th>\n",
              "    </tr>\n",
              "    <tr>\n",
              "      <th>Date</th>\n",
              "      <th></th>\n",
              "      <th></th>\n",
              "      <th></th>\n",
              "      <th></th>\n",
              "      <th></th>\n",
              "      <th></th>\n",
              "      <th></th>\n",
              "      <th></th>\n",
              "    </tr>\n",
              "  </thead>\n",
              "  <tbody>\n",
              "    <tr>\n",
              "      <th>1990-01-02</th>\n",
              "      <td>0.314732</td>\n",
              "      <td>0.334821</td>\n",
              "      <td>0.312500</td>\n",
              "      <td>0.332589</td>\n",
              "      <td>0.266078</td>\n",
              "      <td>183198400</td>\n",
              "      <td>0.334821</td>\n",
              "      <td>1</td>\n",
              "    </tr>\n",
              "    <tr>\n",
              "      <th>1990-01-03</th>\n",
              "      <td>0.339286</td>\n",
              "      <td>0.339286</td>\n",
              "      <td>0.334821</td>\n",
              "      <td>0.334821</td>\n",
              "      <td>0.267863</td>\n",
              "      <td>207995200</td>\n",
              "      <td>0.335938</td>\n",
              "      <td>1</td>\n",
              "    </tr>\n",
              "    <tr>\n",
              "      <th>1990-01-04</th>\n",
              "      <td>0.341518</td>\n",
              "      <td>0.345982</td>\n",
              "      <td>0.332589</td>\n",
              "      <td>0.335938</td>\n",
              "      <td>0.268757</td>\n",
              "      <td>221513600</td>\n",
              "      <td>0.337054</td>\n",
              "      <td>1</td>\n",
              "    </tr>\n",
              "    <tr>\n",
              "      <th>1990-01-05</th>\n",
              "      <td>0.337054</td>\n",
              "      <td>0.341518</td>\n",
              "      <td>0.330357</td>\n",
              "      <td>0.337054</td>\n",
              "      <td>0.269650</td>\n",
              "      <td>123312000</td>\n",
              "      <td>0.339286</td>\n",
              "      <td>1</td>\n",
              "    </tr>\n",
              "    <tr>\n",
              "      <th>1990-01-08</th>\n",
              "      <td>0.334821</td>\n",
              "      <td>0.339286</td>\n",
              "      <td>0.330357</td>\n",
              "      <td>0.339286</td>\n",
              "      <td>0.271435</td>\n",
              "      <td>101572800</td>\n",
              "      <td>0.335938</td>\n",
              "      <td>0</td>\n",
              "    </tr>\n",
              "    <tr>\n",
              "      <th>...</th>\n",
              "      <td>...</td>\n",
              "      <td>...</td>\n",
              "      <td>...</td>\n",
              "      <td>...</td>\n",
              "      <td>...</td>\n",
              "      <td>...</td>\n",
              "      <td>...</td>\n",
              "      <td>...</td>\n",
              "    </tr>\n",
              "    <tr>\n",
              "      <th>2022-03-18</th>\n",
              "      <td>160.509995</td>\n",
              "      <td>164.479996</td>\n",
              "      <td>159.759995</td>\n",
              "      <td>163.979996</td>\n",
              "      <td>163.979996</td>\n",
              "      <td>123351200</td>\n",
              "      <td>165.380005</td>\n",
              "      <td>1</td>\n",
              "    </tr>\n",
              "    <tr>\n",
              "      <th>2022-03-21</th>\n",
              "      <td>163.509995</td>\n",
              "      <td>166.350006</td>\n",
              "      <td>163.009995</td>\n",
              "      <td>165.380005</td>\n",
              "      <td>165.380005</td>\n",
              "      <td>95811400</td>\n",
              "      <td>168.820007</td>\n",
              "      <td>1</td>\n",
              "    </tr>\n",
              "    <tr>\n",
              "      <th>2022-03-22</th>\n",
              "      <td>165.509995</td>\n",
              "      <td>169.419998</td>\n",
              "      <td>164.910004</td>\n",
              "      <td>168.820007</td>\n",
              "      <td>168.820007</td>\n",
              "      <td>81532000</td>\n",
              "      <td>170.210007</td>\n",
              "      <td>1</td>\n",
              "    </tr>\n",
              "    <tr>\n",
              "      <th>2022-03-23</th>\n",
              "      <td>167.990005</td>\n",
              "      <td>172.639999</td>\n",
              "      <td>167.649994</td>\n",
              "      <td>170.210007</td>\n",
              "      <td>170.210007</td>\n",
              "      <td>98062700</td>\n",
              "      <td>174.070007</td>\n",
              "      <td>1</td>\n",
              "    </tr>\n",
              "    <tr>\n",
              "      <th>2022-03-24</th>\n",
              "      <td>171.059998</td>\n",
              "      <td>174.139999</td>\n",
              "      <td>170.210007</td>\n",
              "      <td>174.070007</td>\n",
              "      <td>174.070007</td>\n",
              "      <td>90018700</td>\n",
              "      <td>NaN</td>\n",
              "      <td>0</td>\n",
              "    </tr>\n",
              "  </tbody>\n",
              "</table>\n",
              "<p>8121 rows × 8 columns</p>\n",
              "</div>\n",
              "      <button class=\"colab-df-convert\" onclick=\"convertToInteractive('df-2251879a-14e8-48cf-9270-0fa630c10e42')\"\n",
              "              title=\"Convert this dataframe to an interactive table.\"\n",
              "              style=\"display:none;\">\n",
              "        \n",
              "  <svg xmlns=\"http://www.w3.org/2000/svg\" height=\"24px\"viewBox=\"0 0 24 24\"\n",
              "       width=\"24px\">\n",
              "    <path d=\"M0 0h24v24H0V0z\" fill=\"none\"/>\n",
              "    <path d=\"M18.56 5.44l.94 2.06.94-2.06 2.06-.94-2.06-.94-.94-2.06-.94 2.06-2.06.94zm-11 1L8.5 8.5l.94-2.06 2.06-.94-2.06-.94L8.5 2.5l-.94 2.06-2.06.94zm10 10l.94 2.06.94-2.06 2.06-.94-2.06-.94-.94-2.06-.94 2.06-2.06.94z\"/><path d=\"M17.41 7.96l-1.37-1.37c-.4-.4-.92-.59-1.43-.59-.52 0-1.04.2-1.43.59L10.3 9.45l-7.72 7.72c-.78.78-.78 2.05 0 2.83L4 21.41c.39.39.9.59 1.41.59.51 0 1.02-.2 1.41-.59l7.78-7.78 2.81-2.81c.8-.78.8-2.07 0-2.86zM5.41 20L4 18.59l7.72-7.72 1.47 1.35L5.41 20z\"/>\n",
              "  </svg>\n",
              "      </button>\n",
              "      \n",
              "  <style>\n",
              "    .colab-df-container {\n",
              "      display:flex;\n",
              "      flex-wrap:wrap;\n",
              "      gap: 12px;\n",
              "    }\n",
              "\n",
              "    .colab-df-convert {\n",
              "      background-color: #E8F0FE;\n",
              "      border: none;\n",
              "      border-radius: 50%;\n",
              "      cursor: pointer;\n",
              "      display: none;\n",
              "      fill: #1967D2;\n",
              "      height: 32px;\n",
              "      padding: 0 0 0 0;\n",
              "      width: 32px;\n",
              "    }\n",
              "\n",
              "    .colab-df-convert:hover {\n",
              "      background-color: #E2EBFA;\n",
              "      box-shadow: 0px 1px 2px rgba(60, 64, 67, 0.3), 0px 1px 3px 1px rgba(60, 64, 67, 0.15);\n",
              "      fill: #174EA6;\n",
              "    }\n",
              "\n",
              "    [theme=dark] .colab-df-convert {\n",
              "      background-color: #3B4455;\n",
              "      fill: #D2E3FC;\n",
              "    }\n",
              "\n",
              "    [theme=dark] .colab-df-convert:hover {\n",
              "      background-color: #434B5C;\n",
              "      box-shadow: 0px 1px 3px 1px rgba(0, 0, 0, 0.15);\n",
              "      filter: drop-shadow(0px 1px 2px rgba(0, 0, 0, 0.3));\n",
              "      fill: #FFFFFF;\n",
              "    }\n",
              "  </style>\n",
              "\n",
              "      <script>\n",
              "        const buttonEl =\n",
              "          document.querySelector('#df-2251879a-14e8-48cf-9270-0fa630c10e42 button.colab-df-convert');\n",
              "        buttonEl.style.display =\n",
              "          google.colab.kernel.accessAllowed ? 'block' : 'none';\n",
              "\n",
              "        async function convertToInteractive(key) {\n",
              "          const element = document.querySelector('#df-2251879a-14e8-48cf-9270-0fa630c10e42');\n",
              "          const dataTable =\n",
              "            await google.colab.kernel.invokeFunction('convertToInteractive',\n",
              "                                                     [key], {});\n",
              "          if (!dataTable) return;\n",
              "\n",
              "          const docLinkHtml = 'Like what you see? Visit the ' +\n",
              "            '<a target=\"_blank\" href=https://colab.research.google.com/notebooks/data_table.ipynb>data table notebook</a>'\n",
              "            + ' to learn more about interactive tables.';\n",
              "          element.innerHTML = '';\n",
              "          dataTable['output_type'] = 'display_data';\n",
              "          await google.colab.output.renderOutput(dataTable, element);\n",
              "          const docLink = document.createElement('div');\n",
              "          docLink.innerHTML = docLinkHtml;\n",
              "          element.appendChild(docLink);\n",
              "        }\n",
              "      </script>\n",
              "    </div>\n",
              "  </div>\n",
              "  "
            ]
          },
          "metadata": {},
          "execution_count": 7
        }
      ],
      "source": [
        "df=df.loc[\"1990-01-01\":].copy()\n",
        "df['Tomorrow']=df['Close'].shift(-1)\n",
        "df['Target']=(df['Tomorrow']>df['Close']).astype(int)\n",
        "df"
      ]
    },
    {
      "cell_type": "code",
      "execution_count": 8,
      "metadata": {
        "colab": {
          "base_uri": "https://localhost:8080/",
          "height": 74
        },
        "id": "qRnaDR2wD_pf",
        "outputId": "677a4ea8-4090-4bb9-859a-2cd52f33f33f"
      },
      "outputs": [
        {
          "output_type": "execute_result",
          "data": {
            "text/plain": [
              "RandomForestClassifier(min_samples_split=50, n_estimators=200, random_state=1)"
            ],
            "text/html": [
              "<style>#sk-container-id-1 {color: black;background-color: white;}#sk-container-id-1 pre{padding: 0;}#sk-container-id-1 div.sk-toggleable {background-color: white;}#sk-container-id-1 label.sk-toggleable__label {cursor: pointer;display: block;width: 100%;margin-bottom: 0;padding: 0.3em;box-sizing: border-box;text-align: center;}#sk-container-id-1 label.sk-toggleable__label-arrow:before {content: \"▸\";float: left;margin-right: 0.25em;color: #696969;}#sk-container-id-1 label.sk-toggleable__label-arrow:hover:before {color: black;}#sk-container-id-1 div.sk-estimator:hover label.sk-toggleable__label-arrow:before {color: black;}#sk-container-id-1 div.sk-toggleable__content {max-height: 0;max-width: 0;overflow: hidden;text-align: left;background-color: #f0f8ff;}#sk-container-id-1 div.sk-toggleable__content pre {margin: 0.2em;color: black;border-radius: 0.25em;background-color: #f0f8ff;}#sk-container-id-1 input.sk-toggleable__control:checked~div.sk-toggleable__content {max-height: 200px;max-width: 100%;overflow: auto;}#sk-container-id-1 input.sk-toggleable__control:checked~label.sk-toggleable__label-arrow:before {content: \"▾\";}#sk-container-id-1 div.sk-estimator input.sk-toggleable__control:checked~label.sk-toggleable__label {background-color: #d4ebff;}#sk-container-id-1 div.sk-label input.sk-toggleable__control:checked~label.sk-toggleable__label {background-color: #d4ebff;}#sk-container-id-1 input.sk-hidden--visually {border: 0;clip: rect(1px 1px 1px 1px);clip: rect(1px, 1px, 1px, 1px);height: 1px;margin: -1px;overflow: hidden;padding: 0;position: absolute;width: 1px;}#sk-container-id-1 div.sk-estimator {font-family: monospace;background-color: #f0f8ff;border: 1px dotted black;border-radius: 0.25em;box-sizing: border-box;margin-bottom: 0.5em;}#sk-container-id-1 div.sk-estimator:hover {background-color: #d4ebff;}#sk-container-id-1 div.sk-parallel-item::after {content: \"\";width: 100%;border-bottom: 1px solid gray;flex-grow: 1;}#sk-container-id-1 div.sk-label:hover label.sk-toggleable__label {background-color: #d4ebff;}#sk-container-id-1 div.sk-serial::before {content: \"\";position: absolute;border-left: 1px solid gray;box-sizing: border-box;top: 0;bottom: 0;left: 50%;z-index: 0;}#sk-container-id-1 div.sk-serial {display: flex;flex-direction: column;align-items: center;background-color: white;padding-right: 0.2em;padding-left: 0.2em;position: relative;}#sk-container-id-1 div.sk-item {position: relative;z-index: 1;}#sk-container-id-1 div.sk-parallel {display: flex;align-items: stretch;justify-content: center;background-color: white;position: relative;}#sk-container-id-1 div.sk-item::before, #sk-container-id-1 div.sk-parallel-item::before {content: \"\";position: absolute;border-left: 1px solid gray;box-sizing: border-box;top: 0;bottom: 0;left: 50%;z-index: -1;}#sk-container-id-1 div.sk-parallel-item {display: flex;flex-direction: column;z-index: 1;position: relative;background-color: white;}#sk-container-id-1 div.sk-parallel-item:first-child::after {align-self: flex-end;width: 50%;}#sk-container-id-1 div.sk-parallel-item:last-child::after {align-self: flex-start;width: 50%;}#sk-container-id-1 div.sk-parallel-item:only-child::after {width: 0;}#sk-container-id-1 div.sk-dashed-wrapped {border: 1px dashed gray;margin: 0 0.4em 0.5em 0.4em;box-sizing: border-box;padding-bottom: 0.4em;background-color: white;}#sk-container-id-1 div.sk-label label {font-family: monospace;font-weight: bold;display: inline-block;line-height: 1.2em;}#sk-container-id-1 div.sk-label-container {text-align: center;}#sk-container-id-1 div.sk-container {/* jupyter's `normalize.less` sets `[hidden] { display: none; }` but bootstrap.min.css set `[hidden] { display: none !important; }` so we also need the `!important` here to be able to override the default hidden behavior on the sphinx rendered scikit-learn.org. See: https://github.com/scikit-learn/scikit-learn/issues/21755 */display: inline-block !important;position: relative;}#sk-container-id-1 div.sk-text-repr-fallback {display: none;}</style><div id=\"sk-container-id-1\" class=\"sk-top-container\"><div class=\"sk-text-repr-fallback\"><pre>RandomForestClassifier(min_samples_split=50, n_estimators=200, random_state=1)</pre><b>In a Jupyter environment, please rerun this cell to show the HTML representation or trust the notebook. <br />On GitHub, the HTML representation is unable to render, please try loading this page with nbviewer.org.</b></div><div class=\"sk-container\" hidden><div class=\"sk-item\"><div class=\"sk-estimator sk-toggleable\"><input class=\"sk-toggleable__control sk-hidden--visually\" id=\"sk-estimator-id-1\" type=\"checkbox\" checked><label for=\"sk-estimator-id-1\" class=\"sk-toggleable__label sk-toggleable__label-arrow\">RandomForestClassifier</label><div class=\"sk-toggleable__content\"><pre>RandomForestClassifier(min_samples_split=50, n_estimators=200, random_state=1)</pre></div></div></div></div></div>"
            ]
          },
          "metadata": {},
          "execution_count": 8
        }
      ],
      "source": [
        "from sklearn.ensemble import RandomForestClassifier\n",
        "model = RandomForestClassifier(n_estimators=200, min_samples_split=50, random_state=1)\n",
        "train=df.iloc[:-300]\n",
        "test=df.iloc [-300:]\n",
        "predictors = [\"Close\", \"Volume\", \"Open\", \"High\", \"Low\"]\n",
        "model.fit(train [predictors], train[\"Target\"])"
      ]
    },
    {
      "cell_type": "code",
      "execution_count": 9,
      "metadata": {
        "colab": {
          "base_uri": "https://localhost:8080/"
        },
        "id": "M4lAGtWeEHJA",
        "outputId": "ad43f4c1-11ef-4117-9953-3a1ba8d4b4c2"
      },
      "outputs": [
        {
          "output_type": "execute_result",
          "data": {
            "text/plain": [
              "0.4375"
            ]
          },
          "metadata": {},
          "execution_count": 9
        }
      ],
      "source": [
        "from sklearn.metrics import precision_score\n",
        "preds=model.predict(test[predictors])\n",
        "preds=pd.Series(preds,index=test.index)\n",
        "precision_score(test['Target'],preds)"
      ]
    },
    {
      "cell_type": "code",
      "execution_count": 10,
      "metadata": {
        "id": "j5wdwHlJEJnJ"
      },
      "outputs": [],
      "source": [
        "def predict(train, test, predictors, model):\n",
        "  model.fit(train [predictors], train [\"Target\"])\n",
        "  preds = model.predict(test [predictors])\n",
        "  preds = pd.Series(preds, index=test.index, name=\"Predictions\")\n",
        "  combined = pd.concat([test[\"Target\"], preds], axis=1)\n",
        "  return combined"
      ]
    },
    {
      "cell_type": "code",
      "execution_count": 11,
      "metadata": {
        "id": "OwalSJC5ENy2"
      },
      "outputs": [],
      "source": [
        "def backtest (data, model, predictors, start=2500, step=250):\n",
        "  all_predictions =[]\n",
        "  for i in range (start, data.shape [0], step):\n",
        "    train = data.iloc [0: i].copy()\n",
        "    test = data.iloc [i: (i+step)]. copy()\n",
        "    predictions = predict(train, test, predictors, model)\n",
        "    all_predictions .append(predictions)\n",
        "  return pd.concat(all_predictions)"
      ]
    },
    {
      "cell_type": "code",
      "execution_count": 12,
      "metadata": {
        "colab": {
          "base_uri": "https://localhost:8080/"
        },
        "id": "S-CCu6GCEPng",
        "outputId": "f068b480-6060-4f00-f225-d69d90d5c80d"
      },
      "outputs": [
        {
          "output_type": "execute_result",
          "data": {
            "text/plain": [
              "0.5184275184275184"
            ]
          },
          "metadata": {},
          "execution_count": 12
        }
      ],
      "source": [
        "predictions = backtest (df, model, predictors)\n",
        "precision_score(predictions [\"Target\"], predictions [\"Predictions\"])"
      ]
    },
    {
      "cell_type": "code",
      "execution_count": 13,
      "metadata": {
        "colab": {
          "base_uri": "https://localhost:8080/"
        },
        "id": "9qervczFEV9y",
        "outputId": "0e16a336-6bde-4d31-8b2a-2c028f2c2147"
      },
      "outputs": [
        {
          "output_type": "execute_result",
          "data": {
            "text/plain": [
              "1    0.520904\n",
              "0    0.479096\n",
              "Name: Target, dtype: float64"
            ]
          },
          "metadata": {},
          "execution_count": 13
        }
      ],
      "source": [
        "predictions[\"Target\"].value_counts() / predictions.shape[0]"
      ]
    },
    {
      "cell_type": "code",
      "execution_count": 14,
      "metadata": {
        "colab": {
          "base_uri": "https://localhost:8080/"
        },
        "id": "VX6n8EqnEoG5",
        "outputId": "ce98bf22-4274-4e4c-e554-9d0515783c9c"
      },
      "outputs": [
        {
          "output_type": "execute_result",
          "data": {
            "text/plain": [
              "0.5324751316559392"
            ]
          },
          "metadata": {},
          "execution_count": 14
        }
      ],
      "source": [
        "df['Day'] = df.index.day\n",
        "df['Month'] = df.index.month\n",
        "predictors = [\"Close\", \"Volume\", \"Open\", \"High\", \"Low\",\"Day\",\"Month\"]\n",
        "predictions = backtest (df, model, predictors)\n",
        "precision_score(predictions [\"Target\"], predictions [\"Predictions\"])"
      ]
    },
    {
      "cell_type": "code",
      "execution_count": 15,
      "metadata": {
        "colab": {
          "base_uri": "https://localhost:8080/",
          "height": 455
        },
        "id": "9wbqwQm5Fjz6",
        "outputId": "f022ffde-6652-4c99-d12f-a8c39b41409e"
      },
      "outputs": [
        {
          "output_type": "execute_result",
          "data": {
            "text/plain": [
              "                  Open        High         Low       Close   Adj Close  \\\n",
              "Date                                                                     \n",
              "1990-01-02    0.314732    0.334821    0.312500    0.332589    0.266078   \n",
              "1990-01-03    0.339286    0.339286    0.334821    0.334821    0.267863   \n",
              "1990-01-04    0.341518    0.345982    0.332589    0.335938    0.268757   \n",
              "1990-01-05    0.337054    0.341518    0.330357    0.337054    0.269650   \n",
              "1990-01-08    0.334821    0.339286    0.330357    0.339286    0.271435   \n",
              "...                ...         ...         ...         ...         ...   \n",
              "2022-03-18  160.509995  164.479996  159.759995  163.979996  163.979996   \n",
              "2022-03-21  163.509995  166.350006  163.009995  165.380005  165.380005   \n",
              "2022-03-22  165.509995  169.419998  164.910004  168.820007  168.820007   \n",
              "2022-03-23  167.990005  172.639999  167.649994  170.210007  170.210007   \n",
              "2022-03-24  171.059998  174.139999  170.210007  174.070007  174.070007   \n",
              "\n",
              "               Volume    Tomorrow  Target  Day  Month        RSI  \n",
              "Date                                                              \n",
              "1990-01-02  183198400    0.334821       1    2      1        NaN  \n",
              "1990-01-03  207995200    0.335938       1    3      1        NaN  \n",
              "1990-01-04  221513600    0.337054       1    4      1        NaN  \n",
              "1990-01-05  123312000    0.339286       1    5      1        NaN  \n",
              "1990-01-08  101572800    0.335938       0    8      1        NaN  \n",
              "...               ...         ...     ...  ...    ...        ...  \n",
              "2022-03-18  123351200  165.380005       1   18      3  48.750001  \n",
              "2022-03-21   95811400  168.820007       1   21      3  52.417932  \n",
              "2022-03-22   81532000  170.210007       1   22      3  52.502224  \n",
              "2022-03-23   98062700  174.070007       1   23      3  54.305507  \n",
              "2022-03-24   90018700         NaN       0   24      3  61.590821  \n",
              "\n",
              "[8121 rows x 11 columns]"
            ],
            "text/html": [
              "\n",
              "  <div id=\"df-2c7571f4-32ea-4856-a32c-e47577d43cf8\">\n",
              "    <div class=\"colab-df-container\">\n",
              "      <div>\n",
              "<style scoped>\n",
              "    .dataframe tbody tr th:only-of-type {\n",
              "        vertical-align: middle;\n",
              "    }\n",
              "\n",
              "    .dataframe tbody tr th {\n",
              "        vertical-align: top;\n",
              "    }\n",
              "\n",
              "    .dataframe thead th {\n",
              "        text-align: right;\n",
              "    }\n",
              "</style>\n",
              "<table border=\"1\" class=\"dataframe\">\n",
              "  <thead>\n",
              "    <tr style=\"text-align: right;\">\n",
              "      <th></th>\n",
              "      <th>Open</th>\n",
              "      <th>High</th>\n",
              "      <th>Low</th>\n",
              "      <th>Close</th>\n",
              "      <th>Adj Close</th>\n",
              "      <th>Volume</th>\n",
              "      <th>Tomorrow</th>\n",
              "      <th>Target</th>\n",
              "      <th>Day</th>\n",
              "      <th>Month</th>\n",
              "      <th>RSI</th>\n",
              "    </tr>\n",
              "    <tr>\n",
              "      <th>Date</th>\n",
              "      <th></th>\n",
              "      <th></th>\n",
              "      <th></th>\n",
              "      <th></th>\n",
              "      <th></th>\n",
              "      <th></th>\n",
              "      <th></th>\n",
              "      <th></th>\n",
              "      <th></th>\n",
              "      <th></th>\n",
              "      <th></th>\n",
              "    </tr>\n",
              "  </thead>\n",
              "  <tbody>\n",
              "    <tr>\n",
              "      <th>1990-01-02</th>\n",
              "      <td>0.314732</td>\n",
              "      <td>0.334821</td>\n",
              "      <td>0.312500</td>\n",
              "      <td>0.332589</td>\n",
              "      <td>0.266078</td>\n",
              "      <td>183198400</td>\n",
              "      <td>0.334821</td>\n",
              "      <td>1</td>\n",
              "      <td>2</td>\n",
              "      <td>1</td>\n",
              "      <td>NaN</td>\n",
              "    </tr>\n",
              "    <tr>\n",
              "      <th>1990-01-03</th>\n",
              "      <td>0.339286</td>\n",
              "      <td>0.339286</td>\n",
              "      <td>0.334821</td>\n",
              "      <td>0.334821</td>\n",
              "      <td>0.267863</td>\n",
              "      <td>207995200</td>\n",
              "      <td>0.335938</td>\n",
              "      <td>1</td>\n",
              "      <td>3</td>\n",
              "      <td>1</td>\n",
              "      <td>NaN</td>\n",
              "    </tr>\n",
              "    <tr>\n",
              "      <th>1990-01-04</th>\n",
              "      <td>0.341518</td>\n",
              "      <td>0.345982</td>\n",
              "      <td>0.332589</td>\n",
              "      <td>0.335938</td>\n",
              "      <td>0.268757</td>\n",
              "      <td>221513600</td>\n",
              "      <td>0.337054</td>\n",
              "      <td>1</td>\n",
              "      <td>4</td>\n",
              "      <td>1</td>\n",
              "      <td>NaN</td>\n",
              "    </tr>\n",
              "    <tr>\n",
              "      <th>1990-01-05</th>\n",
              "      <td>0.337054</td>\n",
              "      <td>0.341518</td>\n",
              "      <td>0.330357</td>\n",
              "      <td>0.337054</td>\n",
              "      <td>0.269650</td>\n",
              "      <td>123312000</td>\n",
              "      <td>0.339286</td>\n",
              "      <td>1</td>\n",
              "      <td>5</td>\n",
              "      <td>1</td>\n",
              "      <td>NaN</td>\n",
              "    </tr>\n",
              "    <tr>\n",
              "      <th>1990-01-08</th>\n",
              "      <td>0.334821</td>\n",
              "      <td>0.339286</td>\n",
              "      <td>0.330357</td>\n",
              "      <td>0.339286</td>\n",
              "      <td>0.271435</td>\n",
              "      <td>101572800</td>\n",
              "      <td>0.335938</td>\n",
              "      <td>0</td>\n",
              "      <td>8</td>\n",
              "      <td>1</td>\n",
              "      <td>NaN</td>\n",
              "    </tr>\n",
              "    <tr>\n",
              "      <th>...</th>\n",
              "      <td>...</td>\n",
              "      <td>...</td>\n",
              "      <td>...</td>\n",
              "      <td>...</td>\n",
              "      <td>...</td>\n",
              "      <td>...</td>\n",
              "      <td>...</td>\n",
              "      <td>...</td>\n",
              "      <td>...</td>\n",
              "      <td>...</td>\n",
              "      <td>...</td>\n",
              "    </tr>\n",
              "    <tr>\n",
              "      <th>2022-03-18</th>\n",
              "      <td>160.509995</td>\n",
              "      <td>164.479996</td>\n",
              "      <td>159.759995</td>\n",
              "      <td>163.979996</td>\n",
              "      <td>163.979996</td>\n",
              "      <td>123351200</td>\n",
              "      <td>165.380005</td>\n",
              "      <td>1</td>\n",
              "      <td>18</td>\n",
              "      <td>3</td>\n",
              "      <td>48.750001</td>\n",
              "    </tr>\n",
              "    <tr>\n",
              "      <th>2022-03-21</th>\n",
              "      <td>163.509995</td>\n",
              "      <td>166.350006</td>\n",
              "      <td>163.009995</td>\n",
              "      <td>165.380005</td>\n",
              "      <td>165.380005</td>\n",
              "      <td>95811400</td>\n",
              "      <td>168.820007</td>\n",
              "      <td>1</td>\n",
              "      <td>21</td>\n",
              "      <td>3</td>\n",
              "      <td>52.417932</td>\n",
              "    </tr>\n",
              "    <tr>\n",
              "      <th>2022-03-22</th>\n",
              "      <td>165.509995</td>\n",
              "      <td>169.419998</td>\n",
              "      <td>164.910004</td>\n",
              "      <td>168.820007</td>\n",
              "      <td>168.820007</td>\n",
              "      <td>81532000</td>\n",
              "      <td>170.210007</td>\n",
              "      <td>1</td>\n",
              "      <td>22</td>\n",
              "      <td>3</td>\n",
              "      <td>52.502224</td>\n",
              "    </tr>\n",
              "    <tr>\n",
              "      <th>2022-03-23</th>\n",
              "      <td>167.990005</td>\n",
              "      <td>172.639999</td>\n",
              "      <td>167.649994</td>\n",
              "      <td>170.210007</td>\n",
              "      <td>170.210007</td>\n",
              "      <td>98062700</td>\n",
              "      <td>174.070007</td>\n",
              "      <td>1</td>\n",
              "      <td>23</td>\n",
              "      <td>3</td>\n",
              "      <td>54.305507</td>\n",
              "    </tr>\n",
              "    <tr>\n",
              "      <th>2022-03-24</th>\n",
              "      <td>171.059998</td>\n",
              "      <td>174.139999</td>\n",
              "      <td>170.210007</td>\n",
              "      <td>174.070007</td>\n",
              "      <td>174.070007</td>\n",
              "      <td>90018700</td>\n",
              "      <td>NaN</td>\n",
              "      <td>0</td>\n",
              "      <td>24</td>\n",
              "      <td>3</td>\n",
              "      <td>61.590821</td>\n",
              "    </tr>\n",
              "  </tbody>\n",
              "</table>\n",
              "<p>8121 rows × 11 columns</p>\n",
              "</div>\n",
              "      <button class=\"colab-df-convert\" onclick=\"convertToInteractive('df-2c7571f4-32ea-4856-a32c-e47577d43cf8')\"\n",
              "              title=\"Convert this dataframe to an interactive table.\"\n",
              "              style=\"display:none;\">\n",
              "        \n",
              "  <svg xmlns=\"http://www.w3.org/2000/svg\" height=\"24px\"viewBox=\"0 0 24 24\"\n",
              "       width=\"24px\">\n",
              "    <path d=\"M0 0h24v24H0V0z\" fill=\"none\"/>\n",
              "    <path d=\"M18.56 5.44l.94 2.06.94-2.06 2.06-.94-2.06-.94-.94-2.06-.94 2.06-2.06.94zm-11 1L8.5 8.5l.94-2.06 2.06-.94-2.06-.94L8.5 2.5l-.94 2.06-2.06.94zm10 10l.94 2.06.94-2.06 2.06-.94-2.06-.94-.94-2.06-.94 2.06-2.06.94z\"/><path d=\"M17.41 7.96l-1.37-1.37c-.4-.4-.92-.59-1.43-.59-.52 0-1.04.2-1.43.59L10.3 9.45l-7.72 7.72c-.78.78-.78 2.05 0 2.83L4 21.41c.39.39.9.59 1.41.59.51 0 1.02-.2 1.41-.59l7.78-7.78 2.81-2.81c.8-.78.8-2.07 0-2.86zM5.41 20L4 18.59l7.72-7.72 1.47 1.35L5.41 20z\"/>\n",
              "  </svg>\n",
              "      </button>\n",
              "      \n",
              "  <style>\n",
              "    .colab-df-container {\n",
              "      display:flex;\n",
              "      flex-wrap:wrap;\n",
              "      gap: 12px;\n",
              "    }\n",
              "\n",
              "    .colab-df-convert {\n",
              "      background-color: #E8F0FE;\n",
              "      border: none;\n",
              "      border-radius: 50%;\n",
              "      cursor: pointer;\n",
              "      display: none;\n",
              "      fill: #1967D2;\n",
              "      height: 32px;\n",
              "      padding: 0 0 0 0;\n",
              "      width: 32px;\n",
              "    }\n",
              "\n",
              "    .colab-df-convert:hover {\n",
              "      background-color: #E2EBFA;\n",
              "      box-shadow: 0px 1px 2px rgba(60, 64, 67, 0.3), 0px 1px 3px 1px rgba(60, 64, 67, 0.15);\n",
              "      fill: #174EA6;\n",
              "    }\n",
              "\n",
              "    [theme=dark] .colab-df-convert {\n",
              "      background-color: #3B4455;\n",
              "      fill: #D2E3FC;\n",
              "    }\n",
              "\n",
              "    [theme=dark] .colab-df-convert:hover {\n",
              "      background-color: #434B5C;\n",
              "      box-shadow: 0px 1px 3px 1px rgba(0, 0, 0, 0.15);\n",
              "      filter: drop-shadow(0px 1px 2px rgba(0, 0, 0, 0.3));\n",
              "      fill: #FFFFFF;\n",
              "    }\n",
              "  </style>\n",
              "\n",
              "      <script>\n",
              "        const buttonEl =\n",
              "          document.querySelector('#df-2c7571f4-32ea-4856-a32c-e47577d43cf8 button.colab-df-convert');\n",
              "        buttonEl.style.display =\n",
              "          google.colab.kernel.accessAllowed ? 'block' : 'none';\n",
              "\n",
              "        async function convertToInteractive(key) {\n",
              "          const element = document.querySelector('#df-2c7571f4-32ea-4856-a32c-e47577d43cf8');\n",
              "          const dataTable =\n",
              "            await google.colab.kernel.invokeFunction('convertToInteractive',\n",
              "                                                     [key], {});\n",
              "          if (!dataTable) return;\n",
              "\n",
              "          const docLinkHtml = 'Like what you see? Visit the ' +\n",
              "            '<a target=\"_blank\" href=https://colab.research.google.com/notebooks/data_table.ipynb>data table notebook</a>'\n",
              "            + ' to learn more about interactive tables.';\n",
              "          element.innerHTML = '';\n",
              "          dataTable['output_type'] = 'display_data';\n",
              "          await google.colab.output.renderOutput(dataTable, element);\n",
              "          const docLink = document.createElement('div');\n",
              "          docLink.innerHTML = docLinkHtml;\n",
              "          element.appendChild(docLink);\n",
              "        }\n",
              "      </script>\n",
              "    </div>\n",
              "  </div>\n",
              "  "
            ]
          },
          "metadata": {},
          "execution_count": 15
        }
      ],
      "source": [
        "import pandas as pd\n",
        "\n",
        "def calculate_rsi(prices, window=14):\n",
        "    # Calculate price changes\n",
        "    price_diff = prices.diff(1)\n",
        "\n",
        "    # Get positive and negative price changes\n",
        "    positive_diff = price_diff.where(price_diff > 0, 0)\n",
        "    negative_diff = -price_diff.where(price_diff < 0, 0)\n",
        "\n",
        "    # Calculate average gain and average loss\n",
        "    average_gain = positive_diff.rolling(window).mean()\n",
        "    average_loss = negative_diff.rolling(window).mean()\n",
        "\n",
        "    # Calculate relative strength (RS) and relative strength index (RSI)\n",
        "    rs = average_gain / average_loss\n",
        "    rsi = 100 - (100 / (1 + rs))\n",
        "\n",
        "    return rsi\n",
        "\n",
        "df['RSI'] = calculate_rsi(df['Close'])\n",
        "df"
      ]
    },
    {
      "cell_type": "code",
      "execution_count": 16,
      "metadata": {
        "colab": {
          "base_uri": "https://localhost:8080/",
          "height": 672
        },
        "id": "uUGbVFr-ERRA",
        "outputId": "57dec65d-abef-46d9-c8ca-8b6a54d4b832"
      },
      "outputs": [
        {
          "output_type": "execute_result",
          "data": {
            "text/plain": [
              "                  Open        High         Low       Close   Adj Close  \\\n",
              "Date                                                                     \n",
              "1990-01-02    0.314732    0.334821    0.312500    0.332589    0.266078   \n",
              "1990-01-03    0.339286    0.339286    0.334821    0.334821    0.267863   \n",
              "1990-01-04    0.341518    0.345982    0.332589    0.335938    0.268757   \n",
              "1990-01-05    0.337054    0.341518    0.330357    0.337054    0.269650   \n",
              "1990-01-08    0.334821    0.339286    0.330357    0.339286    0.271435   \n",
              "...                ...         ...         ...         ...         ...   \n",
              "2022-03-18  160.509995  164.479996  159.759995  163.979996  163.979996   \n",
              "2022-03-21  163.509995  166.350006  163.009995  165.380005  165.380005   \n",
              "2022-03-22  165.509995  169.419998  164.910004  168.820007  168.820007   \n",
              "2022-03-23  167.990005  172.639999  167.649994  170.210007  170.210007   \n",
              "2022-03-24  171.059998  174.139999  170.210007  174.070007  174.070007   \n",
              "\n",
              "               Volume    Tomorrow  Target  Day  Month        RSI       ATR  \\\n",
              "Date                                                                         \n",
              "1990-01-02  183198400    0.334821       1    2      1        NaN       NaN   \n",
              "1990-01-03  207995200    0.335938       1    3      1        NaN       NaN   \n",
              "1990-01-04  221513600    0.337054       1    4      1        NaN       NaN   \n",
              "1990-01-05  123312000    0.339286       1    5      1        NaN       NaN   \n",
              "1990-01-08  101572800    0.335938       0    8      1        NaN       NaN   \n",
              "...               ...         ...     ...  ...    ...        ...       ...   \n",
              "2022-03-18  123351200  165.380005       1   18      3  48.750001  5.054285   \n",
              "2022-03-21   95811400  168.820007       1   21      3  52.417932  4.962143   \n",
              "2022-03-22   81532000  170.210007       1   22      3  52.502224  4.969285   \n",
              "2022-03-23   98062700  174.070007       1   23      3  54.305507  5.085714   \n",
              "2022-03-24   90018700         NaN       0   24      3  61.590821  5.071428   \n",
              "\n",
              "             UpperBand   LowerBand  \n",
              "Date                                \n",
              "1990-01-02         NaN         NaN  \n",
              "1990-01-03         NaN         NaN  \n",
              "1990-01-04         NaN         NaN  \n",
              "1990-01-05         NaN         NaN  \n",
              "1990-01-08         NaN         NaN  \n",
              "...                ...         ...  \n",
              "2022-03-18  170.153955  152.486044  \n",
              "2022-03-21  169.822935  152.625064  \n",
              "2022-03-22  170.606391  152.291609  \n",
              "2022-03-23  171.882437  152.029562  \n",
              "2022-03-24  173.833913  151.211087  \n",
              "\n",
              "[8121 rows x 14 columns]"
            ],
            "text/html": [
              "\n",
              "  <div id=\"df-d5705f78-a21f-4639-b181-2914da946804\">\n",
              "    <div class=\"colab-df-container\">\n",
              "      <div>\n",
              "<style scoped>\n",
              "    .dataframe tbody tr th:only-of-type {\n",
              "        vertical-align: middle;\n",
              "    }\n",
              "\n",
              "    .dataframe tbody tr th {\n",
              "        vertical-align: top;\n",
              "    }\n",
              "\n",
              "    .dataframe thead th {\n",
              "        text-align: right;\n",
              "    }\n",
              "</style>\n",
              "<table border=\"1\" class=\"dataframe\">\n",
              "  <thead>\n",
              "    <tr style=\"text-align: right;\">\n",
              "      <th></th>\n",
              "      <th>Open</th>\n",
              "      <th>High</th>\n",
              "      <th>Low</th>\n",
              "      <th>Close</th>\n",
              "      <th>Adj Close</th>\n",
              "      <th>Volume</th>\n",
              "      <th>Tomorrow</th>\n",
              "      <th>Target</th>\n",
              "      <th>Day</th>\n",
              "      <th>Month</th>\n",
              "      <th>RSI</th>\n",
              "      <th>ATR</th>\n",
              "      <th>UpperBand</th>\n",
              "      <th>LowerBand</th>\n",
              "    </tr>\n",
              "    <tr>\n",
              "      <th>Date</th>\n",
              "      <th></th>\n",
              "      <th></th>\n",
              "      <th></th>\n",
              "      <th></th>\n",
              "      <th></th>\n",
              "      <th></th>\n",
              "      <th></th>\n",
              "      <th></th>\n",
              "      <th></th>\n",
              "      <th></th>\n",
              "      <th></th>\n",
              "      <th></th>\n",
              "      <th></th>\n",
              "      <th></th>\n",
              "    </tr>\n",
              "  </thead>\n",
              "  <tbody>\n",
              "    <tr>\n",
              "      <th>1990-01-02</th>\n",
              "      <td>0.314732</td>\n",
              "      <td>0.334821</td>\n",
              "      <td>0.312500</td>\n",
              "      <td>0.332589</td>\n",
              "      <td>0.266078</td>\n",
              "      <td>183198400</td>\n",
              "      <td>0.334821</td>\n",
              "      <td>1</td>\n",
              "      <td>2</td>\n",
              "      <td>1</td>\n",
              "      <td>NaN</td>\n",
              "      <td>NaN</td>\n",
              "      <td>NaN</td>\n",
              "      <td>NaN</td>\n",
              "    </tr>\n",
              "    <tr>\n",
              "      <th>1990-01-03</th>\n",
              "      <td>0.339286</td>\n",
              "      <td>0.339286</td>\n",
              "      <td>0.334821</td>\n",
              "      <td>0.334821</td>\n",
              "      <td>0.267863</td>\n",
              "      <td>207995200</td>\n",
              "      <td>0.335938</td>\n",
              "      <td>1</td>\n",
              "      <td>3</td>\n",
              "      <td>1</td>\n",
              "      <td>NaN</td>\n",
              "      <td>NaN</td>\n",
              "      <td>NaN</td>\n",
              "      <td>NaN</td>\n",
              "    </tr>\n",
              "    <tr>\n",
              "      <th>1990-01-04</th>\n",
              "      <td>0.341518</td>\n",
              "      <td>0.345982</td>\n",
              "      <td>0.332589</td>\n",
              "      <td>0.335938</td>\n",
              "      <td>0.268757</td>\n",
              "      <td>221513600</td>\n",
              "      <td>0.337054</td>\n",
              "      <td>1</td>\n",
              "      <td>4</td>\n",
              "      <td>1</td>\n",
              "      <td>NaN</td>\n",
              "      <td>NaN</td>\n",
              "      <td>NaN</td>\n",
              "      <td>NaN</td>\n",
              "    </tr>\n",
              "    <tr>\n",
              "      <th>1990-01-05</th>\n",
              "      <td>0.337054</td>\n",
              "      <td>0.341518</td>\n",
              "      <td>0.330357</td>\n",
              "      <td>0.337054</td>\n",
              "      <td>0.269650</td>\n",
              "      <td>123312000</td>\n",
              "      <td>0.339286</td>\n",
              "      <td>1</td>\n",
              "      <td>5</td>\n",
              "      <td>1</td>\n",
              "      <td>NaN</td>\n",
              "      <td>NaN</td>\n",
              "      <td>NaN</td>\n",
              "      <td>NaN</td>\n",
              "    </tr>\n",
              "    <tr>\n",
              "      <th>1990-01-08</th>\n",
              "      <td>0.334821</td>\n",
              "      <td>0.339286</td>\n",
              "      <td>0.330357</td>\n",
              "      <td>0.339286</td>\n",
              "      <td>0.271435</td>\n",
              "      <td>101572800</td>\n",
              "      <td>0.335938</td>\n",
              "      <td>0</td>\n",
              "      <td>8</td>\n",
              "      <td>1</td>\n",
              "      <td>NaN</td>\n",
              "      <td>NaN</td>\n",
              "      <td>NaN</td>\n",
              "      <td>NaN</td>\n",
              "    </tr>\n",
              "    <tr>\n",
              "      <th>...</th>\n",
              "      <td>...</td>\n",
              "      <td>...</td>\n",
              "      <td>...</td>\n",
              "      <td>...</td>\n",
              "      <td>...</td>\n",
              "      <td>...</td>\n",
              "      <td>...</td>\n",
              "      <td>...</td>\n",
              "      <td>...</td>\n",
              "      <td>...</td>\n",
              "      <td>...</td>\n",
              "      <td>...</td>\n",
              "      <td>...</td>\n",
              "      <td>...</td>\n",
              "    </tr>\n",
              "    <tr>\n",
              "      <th>2022-03-18</th>\n",
              "      <td>160.509995</td>\n",
              "      <td>164.479996</td>\n",
              "      <td>159.759995</td>\n",
              "      <td>163.979996</td>\n",
              "      <td>163.979996</td>\n",
              "      <td>123351200</td>\n",
              "      <td>165.380005</td>\n",
              "      <td>1</td>\n",
              "      <td>18</td>\n",
              "      <td>3</td>\n",
              "      <td>48.750001</td>\n",
              "      <td>5.054285</td>\n",
              "      <td>170.153955</td>\n",
              "      <td>152.486044</td>\n",
              "    </tr>\n",
              "    <tr>\n",
              "      <th>2022-03-21</th>\n",
              "      <td>163.509995</td>\n",
              "      <td>166.350006</td>\n",
              "      <td>163.009995</td>\n",
              "      <td>165.380005</td>\n",
              "      <td>165.380005</td>\n",
              "      <td>95811400</td>\n",
              "      <td>168.820007</td>\n",
              "      <td>1</td>\n",
              "      <td>21</td>\n",
              "      <td>3</td>\n",
              "      <td>52.417932</td>\n",
              "      <td>4.962143</td>\n",
              "      <td>169.822935</td>\n",
              "      <td>152.625064</td>\n",
              "    </tr>\n",
              "    <tr>\n",
              "      <th>2022-03-22</th>\n",
              "      <td>165.509995</td>\n",
              "      <td>169.419998</td>\n",
              "      <td>164.910004</td>\n",
              "      <td>168.820007</td>\n",
              "      <td>168.820007</td>\n",
              "      <td>81532000</td>\n",
              "      <td>170.210007</td>\n",
              "      <td>1</td>\n",
              "      <td>22</td>\n",
              "      <td>3</td>\n",
              "      <td>52.502224</td>\n",
              "      <td>4.969285</td>\n",
              "      <td>170.606391</td>\n",
              "      <td>152.291609</td>\n",
              "    </tr>\n",
              "    <tr>\n",
              "      <th>2022-03-23</th>\n",
              "      <td>167.990005</td>\n",
              "      <td>172.639999</td>\n",
              "      <td>167.649994</td>\n",
              "      <td>170.210007</td>\n",
              "      <td>170.210007</td>\n",
              "      <td>98062700</td>\n",
              "      <td>174.070007</td>\n",
              "      <td>1</td>\n",
              "      <td>23</td>\n",
              "      <td>3</td>\n",
              "      <td>54.305507</td>\n",
              "      <td>5.085714</td>\n",
              "      <td>171.882437</td>\n",
              "      <td>152.029562</td>\n",
              "    </tr>\n",
              "    <tr>\n",
              "      <th>2022-03-24</th>\n",
              "      <td>171.059998</td>\n",
              "      <td>174.139999</td>\n",
              "      <td>170.210007</td>\n",
              "      <td>174.070007</td>\n",
              "      <td>174.070007</td>\n",
              "      <td>90018700</td>\n",
              "      <td>NaN</td>\n",
              "      <td>0</td>\n",
              "      <td>24</td>\n",
              "      <td>3</td>\n",
              "      <td>61.590821</td>\n",
              "      <td>5.071428</td>\n",
              "      <td>173.833913</td>\n",
              "      <td>151.211087</td>\n",
              "    </tr>\n",
              "  </tbody>\n",
              "</table>\n",
              "<p>8121 rows × 14 columns</p>\n",
              "</div>\n",
              "      <button class=\"colab-df-convert\" onclick=\"convertToInteractive('df-d5705f78-a21f-4639-b181-2914da946804')\"\n",
              "              title=\"Convert this dataframe to an interactive table.\"\n",
              "              style=\"display:none;\">\n",
              "        \n",
              "  <svg xmlns=\"http://www.w3.org/2000/svg\" height=\"24px\"viewBox=\"0 0 24 24\"\n",
              "       width=\"24px\">\n",
              "    <path d=\"M0 0h24v24H0V0z\" fill=\"none\"/>\n",
              "    <path d=\"M18.56 5.44l.94 2.06.94-2.06 2.06-.94-2.06-.94-.94-2.06-.94 2.06-2.06.94zm-11 1L8.5 8.5l.94-2.06 2.06-.94-2.06-.94L8.5 2.5l-.94 2.06-2.06.94zm10 10l.94 2.06.94-2.06 2.06-.94-2.06-.94-.94-2.06-.94 2.06-2.06.94z\"/><path d=\"M17.41 7.96l-1.37-1.37c-.4-.4-.92-.59-1.43-.59-.52 0-1.04.2-1.43.59L10.3 9.45l-7.72 7.72c-.78.78-.78 2.05 0 2.83L4 21.41c.39.39.9.59 1.41.59.51 0 1.02-.2 1.41-.59l7.78-7.78 2.81-2.81c.8-.78.8-2.07 0-2.86zM5.41 20L4 18.59l7.72-7.72 1.47 1.35L5.41 20z\"/>\n",
              "  </svg>\n",
              "      </button>\n",
              "      \n",
              "  <style>\n",
              "    .colab-df-container {\n",
              "      display:flex;\n",
              "      flex-wrap:wrap;\n",
              "      gap: 12px;\n",
              "    }\n",
              "\n",
              "    .colab-df-convert {\n",
              "      background-color: #E8F0FE;\n",
              "      border: none;\n",
              "      border-radius: 50%;\n",
              "      cursor: pointer;\n",
              "      display: none;\n",
              "      fill: #1967D2;\n",
              "      height: 32px;\n",
              "      padding: 0 0 0 0;\n",
              "      width: 32px;\n",
              "    }\n",
              "\n",
              "    .colab-df-convert:hover {\n",
              "      background-color: #E2EBFA;\n",
              "      box-shadow: 0px 1px 2px rgba(60, 64, 67, 0.3), 0px 1px 3px 1px rgba(60, 64, 67, 0.15);\n",
              "      fill: #174EA6;\n",
              "    }\n",
              "\n",
              "    [theme=dark] .colab-df-convert {\n",
              "      background-color: #3B4455;\n",
              "      fill: #D2E3FC;\n",
              "    }\n",
              "\n",
              "    [theme=dark] .colab-df-convert:hover {\n",
              "      background-color: #434B5C;\n",
              "      box-shadow: 0px 1px 3px 1px rgba(0, 0, 0, 0.15);\n",
              "      filter: drop-shadow(0px 1px 2px rgba(0, 0, 0, 0.3));\n",
              "      fill: #FFFFFF;\n",
              "    }\n",
              "  </style>\n",
              "\n",
              "      <script>\n",
              "        const buttonEl =\n",
              "          document.querySelector('#df-d5705f78-a21f-4639-b181-2914da946804 button.colab-df-convert');\n",
              "        buttonEl.style.display =\n",
              "          google.colab.kernel.accessAllowed ? 'block' : 'none';\n",
              "\n",
              "        async function convertToInteractive(key) {\n",
              "          const element = document.querySelector('#df-d5705f78-a21f-4639-b181-2914da946804');\n",
              "          const dataTable =\n",
              "            await google.colab.kernel.invokeFunction('convertToInteractive',\n",
              "                                                     [key], {});\n",
              "          if (!dataTable) return;\n",
              "\n",
              "          const docLinkHtml = 'Like what you see? Visit the ' +\n",
              "            '<a target=\"_blank\" href=https://colab.research.google.com/notebooks/data_table.ipynb>data table notebook</a>'\n",
              "            + ' to learn more about interactive tables.';\n",
              "          element.innerHTML = '';\n",
              "          dataTable['output_type'] = 'display_data';\n",
              "          await google.colab.output.renderOutput(dataTable, element);\n",
              "          const docLink = document.createElement('div');\n",
              "          docLink.innerHTML = docLinkHtml;\n",
              "          element.appendChild(docLink);\n",
              "        }\n",
              "      </script>\n",
              "    </div>\n",
              "  </div>\n",
              "  "
            ]
          },
          "metadata": {},
          "execution_count": 16
        }
      ],
      "source": [
        "import pandas as pd\n",
        "import numpy as np\n",
        "\n",
        "def calculate_atr(df, n=14):\n",
        "    high = df['High']\n",
        "    low = df['Low']\n",
        "    close = df['Close']\n",
        "\n",
        "    # Calculate True Range (TR)\n",
        "    tr1 = high - low\n",
        "    tr2 = np.abs(high - close.shift())\n",
        "    tr3 = np.abs(low - close.shift())\n",
        "    true_range = pd.concat([tr1, tr2, tr3], axis=1).max(axis=1)\n",
        "\n",
        "    # Calculate Average True Range (ATR)\n",
        "    atr = true_range.rolling(window=n).mean()\n",
        "\n",
        "    return atr\n",
        "\n",
        "def calculate_bollinger_bands(df, n=20, k=2):\n",
        "    close = df['Close']\n",
        "\n",
        "    # Calculate Simple Moving Average (SMA)\n",
        "    sma = close.rolling(window=n).mean()\n",
        "\n",
        "    # Calculate Standard Deviation\n",
        "    std = close.rolling(window=n).std()\n",
        "\n",
        "    # Calculate Bollinger Bands\n",
        "    upper_band = sma + k * std\n",
        "    lower_band = sma - k * std\n",
        "\n",
        "    return upper_band, lower_band\n",
        "\n",
        "# Assuming you have a DataFrame named 'df' with columns: 'High', 'Low', 'Close'\n",
        "\n",
        "# Calculate ATR\n",
        "df['ATR'] = calculate_atr(df)\n",
        "\n",
        "# Calculate Bollinger Bands\n",
        "df['UpperBand'], df['LowerBand'] = calculate_bollinger_bands(df)\n",
        "\n",
        "# Print the updated DataFrame\n",
        "df"
      ]
    },
    {
      "cell_type": "code",
      "execution_count": 17,
      "metadata": {
        "id": "q3lPxG7MN76D"
      },
      "outputs": [],
      "source": [
        "# Define the specific time period for calculating the average volume\n",
        "window = 14\n",
        "\n",
        "# Calculate the average volume over the specific time period\n",
        "average_volume = df['Volume'].rolling(window).mean()\n",
        "\n",
        "# Calculate the Volume Ratio\n",
        "volume_ratio = df['Volume'] / average_volume\n",
        "\n",
        "# Add the Volume Ratio as a new column in the dataframe\n",
        "df['Volume_Ratio'] = volume_ratio"
      ]
    },
    {
      "cell_type": "code",
      "execution_count": 18,
      "metadata": {
        "id": "M6JbfmG-FFJt"
      },
      "outputs": [],
      "source": [
        "horizons = [2,5,60,250,1000]\n",
        "new_predictors = []\n",
        "\n",
        "for horizon in horizons:\n",
        "    rolling_averages = df.rolling(horizon).mean()\n",
        "\n",
        "    ratio_column = f\"Close_Ratio_{horizon}\"\n",
        "    df[ratio_column] = df[\"Close\"] / rolling_averages[\"Close\"]\n",
        "\n",
        "    trend_column = f\"Trend_{horizon}\"\n",
        "    df[trend_column] = df.shift(1).rolling(horizon).sum()[\"Target\"]\n",
        "\n",
        "    new_predictors+= [ratio_column, trend_column]\n",
        "\n",
        "df = df.dropna(subset=df.columns[df.columns != \"Tomorrow\"])"
      ]
    },
    {
      "cell_type": "code",
      "execution_count": 19,
      "metadata": {
        "id": "U3VMbGsxFaQd"
      },
      "outputs": [],
      "source": [
        "def predict(train, test, predictors, model):\n",
        "    model.fit(train[predictors], train[\"Target\"])\n",
        "    preds = model.predict_proba(test[predictors])[:,1]\n",
        "    preds[preds >=.6] = 1\n",
        "    preds[preds <.6] = 0\n",
        "    preds = pd.Series(preds, index=test.index, name=\"Predictions\")\n",
        "    combined = pd.concat([test[\"Target\"], preds], axis=1)\n",
        "    return combined"
      ]
    },
    {
      "cell_type": "code",
      "execution_count": 20,
      "metadata": {
        "colab": {
          "base_uri": "https://localhost:8080/"
        },
        "id": "J1ft7KVnFbNX",
        "outputId": "146df125-fe2f-47fc-b9bb-16b4d607c505"
      },
      "outputs": [
        {
          "output_type": "execute_result",
          "data": {
            "text/plain": [
              "0.55741127348643"
            ]
          },
          "metadata": {},
          "execution_count": 20
        }
      ],
      "source": [
        "predictions = backtest(df, model, new_predictors)\n",
        "precision_score(predictions[\"Target\"], predictions[\"Predictions\"])"
      ]
    },
    {
      "cell_type": "code",
      "execution_count": 21,
      "metadata": {
        "colab": {
          "base_uri": "https://localhost:8080/"
        },
        "id": "UCpLBNEGFdSV",
        "outputId": "5e7342d5-a16e-458b-b91d-04f91a217efe"
      },
      "outputs": [
        {
          "output_type": "execute_result",
          "data": {
            "text/plain": [
              "0.5717299578059072"
            ]
          },
          "metadata": {},
          "execution_count": 21
        }
      ],
      "source": [
        "new_predictors+=['RSI']\n",
        "predictions = backtest(df, model, new_predictors)\n",
        "precision_score(predictions[\"Target\"], predictions[\"Predictions\"])\n",
        "# f1_score(predictions[\"Target\"], predictions[\"Predictions\"])"
      ]
    },
    {
      "cell_type": "code",
      "execution_count": 22,
      "metadata": {
        "colab": {
          "base_uri": "https://localhost:8080/"
        },
        "id": "thQGEyriIAOZ",
        "outputId": "8015e8d0-3550-4f01-e080-79c1b6ce7805"
      },
      "outputs": [
        {
          "output_type": "execute_result",
          "data": {
            "text/plain": [
              "0.5366568914956011"
            ]
          },
          "metadata": {},
          "execution_count": 22
        }
      ],
      "source": [
        "new_predictors+=['ATR']\n",
        "predictions = backtest(df, model, new_predictors)\n",
        "precision_score(predictions[\"Target\"], predictions[\"Predictions\"])"
      ]
    },
    {
      "cell_type": "code",
      "execution_count": 23,
      "metadata": {
        "colab": {
          "base_uri": "https://localhost:8080/"
        },
        "id": "TD8u_MfnH3nh",
        "outputId": "9ec2e99f-e5a3-43c6-9efd-0ad89d347263"
      },
      "outputs": [
        {
          "output_type": "execute_result",
          "data": {
            "text/plain": [
              "0.5551724137931034"
            ]
          },
          "metadata": {},
          "execution_count": 23
        }
      ],
      "source": [
        "new_predictors+=['Volume_Ratio']\n",
        "predictions = backtest(df, model, new_predictors)\n",
        "precision_score(predictions[\"Target\"], predictions[\"Predictions\"])"
      ]
    },
    {
      "cell_type": "code",
      "execution_count": 24,
      "metadata": {
        "colab": {
          "base_uri": "https://localhost:8080/",
          "height": 564
        },
        "id": "haMv9LP_Ij5H",
        "outputId": "29b741a9-e529-4f03-db37-83d197e9c5ac"
      },
      "outputs": [
        {
          "output_type": "display_data",
          "data": {
            "text/plain": [
              "<Figure size 800x600 with 1 Axes>"
            ],
            "image/png": "[encoded data removed]"
          },
          "metadata": {}
        }
      ],
      "source": [
        "import pandas as pd\n",
        "import matplotlib.pyplot as plt\n",
        "from sklearn.ensemble import RandomForestClassifier\n",
        "new_predictors+=['UpperBand','LowerBand']\n",
        "# Assuming your features are stored in columns 1-5 and the target variable is in column 'Target'\n",
        "X = df[new_predictors]  # Features\n",
        "y = df['Target']      # Target variable\n",
        "\n",
        "# Create a Random Forest Classifier\n",
        "clf = RandomForestClassifier()\n",
        "clf.fit(X, y)\n",
        "\n",
        "# Get feature importances\n",
        "importance_scores = clf.feature_importances_\n",
        "\n",
        "# Create a DataFrame to display feature importances\n",
        "feature_importance_df = pd.DataFrame({'Feature': new_predictors, 'Importance': importance_scores})\n",
        "feature_importance_df = feature_importance_df.sort_values('Importance', ascending=False)\n",
        "\n",
        "# Plot the feature importances\n",
        "plt.figure(figsize=(8, 6))\n",
        "plt.barh(feature_importance_df['Feature'], feature_importance_df['Importance'])\n",
        "plt.xlabel('Importance')\n",
        "plt.ylabel('Feature')\n",
        "plt.title('Feature Importances')\n",
        "plt.show()\n"
      ]
    },
    {
      "cell_type": "code",
      "execution_count": 25,
      "metadata": {
        "colab": {
          "base_uri": "https://localhost:8080/",
          "height": 1000
        },
        "id": "D6Cjb-z0J47w",
        "outputId": "a244c6d0-6a7f-4c62-b65f-8980b1db6e36"
      },
      "outputs": [
        {
          "output_type": "stream",
          "name": "stdout",
          "text": [
            "Correlation Matrix:\n",
            "                  Close_Ratio_2   Trend_2  Close_Ratio_5   Trend_5  \\\n",
            "Close_Ratio_2          1.000000  0.467074       0.722680  0.301959   \n",
            "Trend_2                0.467074  1.000000       0.586463  0.629904   \n",
            "Close_Ratio_5          0.722680  0.586463       1.000000  0.530274   \n",
            "Trend_5                0.301959  0.629904       0.530274  1.000000   \n",
            "Close_Ratio_60         0.224665  0.239280       0.405280  0.366618   \n",
            "Trend_60               0.081837  0.199754       0.148754  0.318231   \n",
            "Close_Ratio_250        0.111212  0.158245       0.202757  0.248874   \n",
            "Trend_250              0.037192  0.122720       0.065273  0.193137   \n",
            "Close_Ratio_1000       0.056057  0.103590       0.102068  0.164320   \n",
            "Trend_1000             0.012332  0.072021       0.020164  0.114190   \n",
            "RSI                    0.234974  0.321191       0.424473  0.495945   \n",
            "ATR                   -0.002644  0.007403      -0.009293  0.005670   \n",
            "Volume_Ratio           0.040302  0.029764       0.057675  0.019612   \n",
            "UpperBand              0.002737  0.023838       0.003775  0.038241   \n",
            "LowerBand              0.002993  0.025099       0.004079  0.039377   \n",
            "\n",
            "                  Close_Ratio_60  Trend_60  Close_Ratio_250  Trend_250  \\\n",
            "Close_Ratio_2           0.224665  0.081837         0.111212   0.037192   \n",
            "Trend_2                 0.239280  0.199754         0.158245   0.122720   \n",
            "Close_Ratio_5           0.405280  0.148754         0.202757   0.065273   \n",
            "Trend_5                 0.366618  0.318231         0.248874   0.193137   \n",
            "Close_Ratio_60          1.000000  0.596710         0.666659   0.262086   \n",
            "Trend_60                0.596710  1.000000         0.679411   0.606600   \n",
            "Close_Ratio_250         0.666659  0.679411         1.000000   0.623965   \n",
            "Trend_250               0.262086  0.606600         0.623965   1.000000   \n",
            "Close_Ratio_1000        0.369264  0.502023         0.720785   0.741906   \n",
            "Trend_1000              0.085028  0.366510         0.215892   0.645105   \n",
            "RSI                     0.664428  0.436515         0.400995   0.254249   \n",
            "ATR                    -0.005710  0.123928         0.099929   0.284145   \n",
            "Volume_Ratio            0.030428  0.015559         0.021853  -0.002754   \n",
            "UpperBand               0.038706  0.172354         0.105795   0.308122   \n",
            "LowerBand               0.039272  0.172562         0.103250   0.305341   \n",
            "\n",
            "                  Close_Ratio_1000  Trend_1000       RSI       ATR  \\\n",
            "Close_Ratio_2             0.056057    0.012332  0.234974 -0.002644   \n",
            "Trend_2                   0.103590    0.072021  0.321191  0.007403   \n",
            "Close_Ratio_5             0.102068    0.020164  0.424473 -0.009293   \n",
            "Trend_5                   0.164320    0.114190  0.495945  0.005670   \n",
            "Close_Ratio_60            0.369264    0.085028  0.664428 -0.005710   \n",
            "Trend_60                  0.502023    0.366510  0.436515  0.123928   \n",
            "Close_Ratio_250           0.720785    0.215892  0.400995  0.099929   \n",
            "Trend_250                 0.741906    0.645105  0.254249  0.284145   \n",
            "Close_Ratio_1000          1.000000    0.562929  0.244519  0.195805   \n",
            "Trend_1000                0.562929    1.000000  0.160866  0.448952   \n",
            "RSI                       0.244519    0.160866  1.000000 -0.006947   \n",
            "ATR                       0.195805    0.448952 -0.006947  1.000000   \n",
            "Volume_Ratio              0.003413   -0.017872  0.007148 -0.014504   \n",
            "UpperBand                 0.195593    0.485658  0.058203  0.932859   \n",
            "LowerBand                 0.192588    0.483088  0.056409  0.915347   \n",
            "\n",
            "                  Volume_Ratio  UpperBand  LowerBand  \n",
            "Close_Ratio_2         0.040302   0.002737   0.002993  \n",
            "Trend_2               0.029764   0.023838   0.025099  \n",
            "Close_Ratio_5         0.057675   0.003775   0.004079  \n",
            "Trend_5               0.019612   0.038241   0.039377  \n",
            "Close_Ratio_60        0.030428   0.038706   0.039272  \n",
            "Trend_60              0.015559   0.172354   0.172562  \n",
            "Close_Ratio_250       0.021853   0.105795   0.103250  \n",
            "Trend_250            -0.002754   0.308122   0.305341  \n",
            "Close_Ratio_1000      0.003413   0.195593   0.192588  \n",
            "Trend_1000           -0.017872   0.485658   0.483088  \n",
            "RSI                   0.007148   0.058203   0.056409  \n",
            "ATR                  -0.014504   0.932859   0.915347  \n",
            "Volume_Ratio          1.000000  -0.007867  -0.006966  \n",
            "UpperBand            -0.007867   1.000000   0.997897  \n",
            "LowerBand            -0.006966   0.997897   1.000000  \n"
          ]
        },
        {
          "output_type": "display_data",
          "data": {
            "text/plain": [
              "<Figure size 1000x800 with 2 Axes>"
            ],
            "image/png": "[encoded data removed]"
          },
          "metadata": {}
        },
        {
          "output_type": "stream",
          "name": "stdout",
          "text": [
            "\n",
            "Variance Inflation Factor (VIF):\n",
            "             Feature          VIF\n",
            "0      Close_Ratio_2  3957.224450\n",
            "1            Trend_2     5.668050\n",
            "2      Close_Ratio_5  3572.143902\n",
            "3            Trend_5    13.558380\n",
            "4     Close_Ratio_60   260.682356\n",
            "5           Trend_60   131.772465\n",
            "6    Close_Ratio_250    94.933109\n",
            "7          Trend_250   463.241963\n",
            "8   Close_Ratio_1000    20.754676\n",
            "9         Trend_1000   711.565185\n",
            "10               RSI    23.957543\n",
            "11               ATR    19.232801\n",
            "12      Volume_Ratio     5.649065\n",
            "13         UpperBand   759.166258\n",
            "14         LowerBand   600.163921\n"
          ]
        }
      ],
      "source": [
        "import pandas as pd\n",
        "import numpy as np\n",
        "import seaborn as sns\n",
        "import matplotlib.pyplot as plt\n",
        "from statsmodels.stats.outliers_influence import variance_inflation_factor\n",
        "\n",
        "# Assuming your features are stored in columns 1-5 of the dataframe 'df'\n",
        "X = df[new_predictors]  # Features\n",
        "\n",
        "# Calculate the correlation matrix\n",
        "correlation_matrix = X.corr()\n",
        "\n",
        "# Print the correlation matrix\n",
        "print(\"Correlation Matrix:\")\n",
        "print(correlation_matrix)\n",
        "\n",
        "# Plot the correlation matrix as a heatmap\n",
        "plt.figure(figsize=(10, 8))\n",
        "sns.heatmap(correlation_matrix, annot=True, cmap=\"coolwarm\", fmt=\".2f\", square=True)\n",
        "plt.title(\"Correlation Matrix Heatmap\")\n",
        "plt.show()\n",
        "\n",
        "# Calculate the Variance Inflation Factor (VIF)\n",
        "vif = pd.DataFrame()\n",
        "vif[\"Feature\"] = X.columns\n",
        "vif[\"VIF\"] = [variance_inflation_factor(X.values, i) for i in range(X.shape[1])]\n",
        "\n",
        "# Print the VIF\n",
        "print(\"\\nVariance Inflation Factor (VIF):\")\n",
        "print(vif)\n",
        "\n"
      ]
    },
    {
      "cell_type": "code",
      "execution_count": 26,
      "metadata": {
        "colab": {
          "base_uri": "https://localhost:8080/"
        },
        "id": "-WuyG6hG3mPk",
        "outputId": "6b26370c-ea1f-4864-a77a-75d0e9383db1"
      },
      "outputs": [
        {
          "output_type": "stream",
          "name": "stdout",
          "text": [
            "Precision: 0.5328310010764262\n",
            "Cross-Validation Scores: [0.51383399 0.52015605 0.51165803 0.51387054 0.53625   ]\n",
            "Mean Cross-Validation Score: 0.5191537223217227\n"
          ]
        }
      ],
      "source": [
        "from sklearn.svm import SVC\n",
        "from sklearn.model_selection import train_test_split, cross_val_score\n",
        "from sklearn.metrics import precision_score\n",
        "\n",
        "# new_predictors = [value for value in new_predictors if value not in ['Volume_Ratio', 'ATR']]\n",
        "\n",
        "# Assuming you have a DataFrame called 'df' with features and a target variable\n",
        "X = df[new_predictors]  # Features\n",
        "y = df['Target']   # Target variable\n",
        "\n",
        "# Split the data into training and test sets\n",
        "X_train, X_test, y_train, y_test = train_test_split(X, y, test_size=0.2, random_state=42)\n",
        "\n",
        "# Create an SVM classifier\n",
        "svm = SVC()\n",
        "\n",
        "# Perform cross-validation\n",
        "cv_scores = cross_val_score(svm, X_train, y_train, cv=5, scoring='precision')\n",
        "\n",
        "# Train the SVM classifier on the entire training set\n",
        "svm.fit(X_train, y_train)\n",
        "\n",
        "# Make predictions on the test set\n",
        "y_pred = svm.predict(X_test)\n",
        "\n",
        "# Evaluate the precision of the SVM classifier\n",
        "precision = precision_score(y_test, y_pred)\n",
        "print(\"Precision:\", precision)\n",
        "\n",
        "# Print the cross-validation scores\n",
        "print(\"Cross-Validation Scores:\", cv_scores)\n",
        "print(\"Mean Cross-Validation Score:\", cv_scores.mean())\n"
      ]
    },
    {
      "cell_type": "code",
      "execution_count": 27,
      "metadata": {
        "colab": {
          "base_uri": "https://localhost:8080/"
        },
        "id": "LE2pfQIR9FQD",
        "outputId": "75157510-ba74-4aa3-f317-8a99ddd8b4e0"
      },
      "outputs": [
        {
          "output_type": "stream",
          "name": "stdout",
          "text": [
            "Precision: 0.5315508021390374\n",
            "Cross-Validation Scores: [0.51383399 0.52077922 0.51102464 0.51387054 0.53566959]\n",
            "Mean Cross-Validation Score: 0.51903559695796\n"
          ]
        }
      ],
      "source": [
        "from sklearn.svm import SVC\n",
        "from sklearn.model_selection import train_test_split, cross_val_score\n",
        "from sklearn.metrics import precision_score\n",
        "\n",
        "new_predictors = [value for value in new_predictors if value not in ['Volume_Ratio', 'ATR']]\n",
        "\n",
        "# Assuming you have a DataFrame called 'df' with features and a target variable\n",
        "X = df[new_predictors]  # Features\n",
        "y = df['Target']   # Target variable\n",
        "\n",
        "# Split the data into training and test sets\n",
        "X_train, X_test, y_train, y_test = train_test_split(X, y, test_size=0.2, random_state=42)\n",
        "\n",
        "# Create an SVM classifier\n",
        "svm = SVC()\n",
        "\n",
        "# Perform cross-validation\n",
        "cv_scores = cross_val_score(svm, X_train, y_train, cv=5, scoring='precision')\n",
        "\n",
        "# Train the SVM classifier on the entire training set\n",
        "svm.fit(X_train, y_train)\n",
        "\n",
        "# Make predictions on the test set\n",
        "y_pred = svm.predict(X_test)\n",
        "\n",
        "# Evaluate the precision of the SVM classifier\n",
        "precision = precision_score(y_test, y_pred)\n",
        "print(\"Precision:\", precision)\n",
        "\n",
        "# Print the cross-validation scores\n",
        "print(\"Cross-Validation Scores:\", cv_scores)\n",
        "print(\"Mean Cross-Validation Score:\", cv_scores.mean())\n"
      ]
    },
    {
      "cell_type": "code",
      "execution_count": 28,
      "metadata": {
        "colab": {
          "base_uri": "https://localhost:8080/"
        },
        "id": "_UZSXvJQCOEr",
        "outputId": "be0921ce-ca99-449f-f580-c71d5194b1be"
      },
      "outputs": [
        {
          "output_type": "stream",
          "name": "stdout",
          "text": [
            "Best Hyperparameters: {'C': 10, 'gamma': 'auto', 'kernel': 'rbf'}\n",
            "Best Precision: 0.542852052151219\n",
            "Test Set Precision: 0.543859649122807\n"
          ]
        }
      ],
      "source": [
        "from sklearn.svm import SVC\n",
        "from sklearn.model_selection import train_test_split, cross_val_score, GridSearchCV\n",
        "from sklearn.metrics import precision_score\n",
        "from sklearn.datasets import make_classification\n",
        "\n",
        "X = df[new_predictors]\n",
        "y = df['Target']\n",
        "\n",
        "# Split the data into training and test sets\n",
        "X_train, X_test, y_train, y_test = train_test_split(X, y, test_size=0.2, random_state=42)\n",
        "\n",
        "# Create an SVM classifier\n",
        "svm = SVC()\n",
        "\n",
        "# Define the hyperparameter grid\n",
        "param_grid = {\n",
        "    'C': [0.1, 1, 10],\n",
        "    'kernel': ['linear', 'rbf'],\n",
        "    'gamma': ['scale', 'auto']\n",
        "}\n",
        "\n",
        "# Perform grid search with cross-validation\n",
        "grid_search = GridSearchCV(svm, param_grid, cv=5, scoring='precision')\n",
        "grid_search.fit(X_train, y_train)\n",
        "\n",
        "# Get the best hyperparameters and corresponding precision score\n",
        "best_params = grid_search.best_params_\n",
        "best_precision = grid_search.best_score_\n",
        "\n",
        "# Train the SVM classifier with the best hyperparameters\n",
        "best_svm = SVC(**best_params)\n",
        "best_svm.fit(X_train, y_train)\n",
        "\n",
        "# Make predictions on the test set\n",
        "y_pred = best_svm.predict(X_test)\n",
        "\n",
        "# Evaluate the precision of the SVM classifier\n",
        "precision = precision_score(y_test, y_pred)\n",
        "print(\"Best Hyperparameters:\", best_params)\n",
        "print(\"Best Precision:\", best_precision)\n",
        "print(\"Test Set Precision:\", precision)\n"
      ]
    },
    {
      "cell_type": "code",
      "source": [
        "pip install xgboost"
      ],
      "metadata": {
        "colab": {
          "base_uri": "https://localhost:8080/"
        },
        "id": "7Tl-P4EK54NC",
        "outputId": "f93101f2-d208-4b6f-d7b9-cecc1c705d12"
      },
      "execution_count": 29,
      "outputs": [
        {
          "output_type": "stream",
          "name": "stdout",
          "text": [
            "Requirement already satisfied: xgboost in /usr/local/lib/python3.10/dist-packages (1.7.6)\n",
            "Requirement already satisfied: numpy in /usr/local/lib/python3.10/dist-packages (from xgboost) (1.22.4)\n",
            "Requirement already satisfied: scipy in /usr/local/lib/python3.10/dist-packages (from xgboost) (1.10.1)\n"
          ]
        }
      ]
    },
    {
      "cell_type": "code",
      "source": [
        "import xgboost as xgb\n",
        "from sklearn.model_selection import train_test_split\n",
        "from sklearn.metrics import precision_score, recall_score\n",
        "\n",
        "X = df[new_predictors]\n",
        "y = df['Target']\n",
        "X_train, X_test, y_train, y_test = train_test_split(X, y, test_size=0.2, random_state=42)\n",
        "\n",
        "xgb_model = xgb.XGBClassifier(\n",
        "    objective='binary:logistic',\n",
        "    random_state=42\n",
        "\n",
        ")\n",
        "xgb_model.fit(X_train, y_train)\n",
        "\n",
        "y_pred = xgb_model.predict(X_test)\n",
        "precision = precision_score(y_test, y_pred)\n",
        "recall = recall_score(y_test, y_pred)\n",
        "\n",
        "print(\"Precision:\", precision)\n",
        "print(\"Recall:\", recall)\n",
        "\n",
        "cv_results = xgb.cv(\n",
        "    xgb_model.get_xgb_params(),\n",
        "    xgb.DMatrix(X_train, label=y_train),\n",
        "    num_boost_round=100,\n",
        "    nfold=5,\n",
        "    metrics='logloss',\n",
        "    early_stopping_rounds=10,\n",
        "    seed=42\n",
        ")\n",
        "\n",
        "best_logloss = cv_results['test-logloss-mean'].min()\n",
        "print(\"Best Cross-Validation Log Loss:\", best_logloss)\n"
      ],
      "metadata": {
        "colab": {
          "base_uri": "https://localhost:8080/"
        },
        "id": "-Uu15Bs057pf",
        "outputId": "a34983b0-d1b5-4d6e-d823-b65cb71bf45d"
      },
      "execution_count": 30,
      "outputs": [
        {
          "output_type": "stream",
          "name": "stdout",
          "text": [
            "Precision: 0.5521796565389696\n",
            "Recall: 0.5565912117177098\n",
            "Best Cross-Validation Log Loss: 0.6940168708976768\n"
          ]
        }
      ]
    },
    {
      "cell_type": "code",
      "source": [
        "df1=df.reset_index()['Close']\n",
        "from sklearn.preprocessing import MinMaxScaler\n",
        "scaler=MinMaxScaler(feature_range=(0,1))\n",
        "df1=scaler.fit_transform(np.array(df1).reshape(-1,1))"
      ],
      "metadata": {
        "id": "gl3nOv109e2S"
      },
      "execution_count": 31,
      "outputs": []
    },
    {
      "cell_type": "code",
      "source": [
        "##splitting dataset into train and test split\n",
        "training_size=int(len(df1)*0.65)\n",
        "test_size=len(df1)-training_size\n",
        "train_data,test_data=df1[0:training_size,:],df1[training_size:len(df1),:1]"
      ],
      "metadata": {
        "id": "ERTmbl2q73s4"
      },
      "execution_count": 32,
      "outputs": []
    },
    {
      "cell_type": "code",
      "source": [
        "import numpy\n",
        "# convert an array of values into a dataset matrix\n",
        "def create_dataset(dataset, time_step=1):\n",
        "\tdataX, dataY = [], []\n",
        "\tfor i in range(len(dataset)-time_step-1):\n",
        "\t\ta = dataset[i:(i+time_step), 0]   ###i=0, 0,1,2,3-----99   100\n",
        "\t\tdataX.append(a)\n",
        "\t\tdataY.append(dataset[i + time_step, 0])\n",
        "\treturn numpy.array(dataX), numpy.array(dataY)"
      ],
      "metadata": {
        "id": "S5mldguf74Qu"
      },
      "execution_count": 33,
      "outputs": []
    },
    {
      "cell_type": "code",
      "source": [
        "# reshape into X=t,t+1,t+2,t+3 and Y=t+4\n",
        "time_step = 100\n",
        "X_train, y_train = create_dataset(train_data, time_step)\n",
        "X_test, ytest = create_dataset(test_data, time_step)"
      ],
      "metadata": {
        "id": "4IyGqwhQD8La"
      },
      "execution_count": 34,
      "outputs": []
    },
    {
      "cell_type": "code",
      "source": [
        "print(X_train.shape), print(y_train.shape)\n",
        "print(X_test.shape), print(ytest.shape)"
      ],
      "metadata": {
        "colab": {
          "base_uri": "https://localhost:8080/"
        },
        "id": "jnFfUH-tEAL0",
        "outputId": "5b876e72-19f9-49e9-921a-8c3407ce3efd"
      },
      "execution_count": 36,
      "outputs": [
        {
          "output_type": "stream",
          "name": "stdout",
          "text": [
            "(4527, 100)\n",
            "(4527,)\n",
            "(2392, 100)\n",
            "(2392,)\n"
          ]
        },
        {
          "output_type": "execute_result",
          "data": {
            "text/plain": [
              "(None, None)"
            ]
          },
          "metadata": {},
          "execution_count": 36
        }
      ]
    },
    {
      "cell_type": "code",
      "source": [
        "# reshape input to be [samples, time steps, features] which is required for LSTM\n",
        "X_train =X_train.reshape(X_train.shape[0],X_train.shape[1] , 1)\n",
        "X_test = X_test.reshape(X_test.shape[0],X_test.shape[1] , 1)"
      ],
      "metadata": {
        "id": "-BtfsLlkEAjq"
      },
      "execution_count": 37,
      "outputs": []
    },
    {
      "cell_type": "code",
      "source": [
        "### Create the Stacked LSTM model\n",
        "from tensorflow.keras.models import Sequential\n",
        "from tensorflow.keras.layers import Dense\n",
        "from tensorflow.keras.layers import LSTM"
      ],
      "metadata": {
        "id": "1EF32HkREF-Q"
      },
      "execution_count": 38,
      "outputs": []
    },
    {
      "cell_type": "code",
      "source": [
        "model=Sequential()\n",
        "model.add(LSTM(50,return_sequences=True,input_shape=(100,1)))\n",
        "model.add(LSTM(50,return_sequences=True))\n",
        "model.add(LSTM(50))\n",
        "model.add(Dense(1))\n",
        "model.compile(loss='mean_squared_error',optimizer='adam')"
      ],
      "metadata": {
        "id": "nMJxu_nuEKj8"
      },
      "execution_count": 39,
      "outputs": []
    },
    {
      "cell_type": "code",
      "source": [
        "model.summary()"
      ],
      "metadata": {
        "colab": {
          "base_uri": "https://localhost:8080/"
        },
        "id": "ADQOp1oUEMrr",
        "outputId": "56f90e1c-8d55-4b33-b987-f867ba95294c"
      },
      "execution_count": 40,
      "outputs": [
        {
          "output_type": "stream",
          "name": "stdout",
          "text": [
            "Model: \"sequential\"\n",
            "_________________________________________________________________\n",
            " Layer (type)                Output Shape              Param #   \n",
            "=================================================================\n",
            " lstm (LSTM)                 (None, 100, 50)           10400     \n",
            "                                                                 \n",
            " lstm_1 (LSTM)               (None, 100, 50)           20200     \n",
            "                                                                 \n",
            " lstm_2 (LSTM)               (None, 50)                20200     \n",
            "                                                                 \n",
            " dense (Dense)               (None, 1)                 51        \n",
            "                                                                 \n",
            "=================================================================\n",
            "Total params: 50,851\n",
            "Trainable params: 50,851\n",
            "Non-trainable params: 0\n",
            "_________________________________________________________________\n"
          ]
        }
      ]
    },
    {
      "cell_type": "code",
      "source": [
        "model.fit(X_train,y_train,validation_data=(X_test,ytest),epochs=100,batch_size=64,verbose=1)"
      ],
      "metadata": {
        "colab": {
          "base_uri": "https://localhost:8080/"
        },
        "id": "OpICwzy5EO8F",
        "outputId": "9d649724-dfb7-4410-8077-0428508f23bc"
      },
      "execution_count": 41,
      "outputs": [
        {
          "output_type": "stream",
          "name": "stdout",
          "text": [
            "Epoch 1/100\n",
            "71/71 [==============================] - 26s 254ms/step - loss: 6.4884e-05 - val_loss: 0.0020\n",
            "Epoch 2/100\n",
            "71/71 [==============================] - 16s 221ms/step - loss: 3.2859e-06 - val_loss: 0.0012\n",
            "Epoch 3/100\n",
            "71/71 [==============================] - 16s 229ms/step - loss: 3.1760e-06 - val_loss: 7.8850e-04\n",
            "Epoch 4/100\n",
            "71/71 [==============================] - 28s 401ms/step - loss: 3.4317e-06 - val_loss: 6.3063e-04\n",
            "Epoch 5/100\n",
            "71/71 [==============================] - 20s 284ms/step - loss: 3.2554e-06 - val_loss: 6.1081e-04\n",
            "Epoch 6/100\n",
            "71/71 [==============================] - 16s 221ms/step - loss: 3.0458e-06 - val_loss: 4.7397e-04\n",
            "Epoch 7/100\n",
            "71/71 [==============================] - 16s 231ms/step - loss: 2.8327e-06 - val_loss: 4.9578e-04\n",
            "Epoch 8/100\n",
            "71/71 [==============================] - 16s 220ms/step - loss: 2.7021e-06 - val_loss: 5.2261e-04\n",
            "Epoch 9/100\n",
            "71/71 [==============================] - 16s 230ms/step - loss: 2.7663e-06 - val_loss: 3.6373e-04\n",
            "Epoch 10/100\n",
            "71/71 [==============================] - 17s 245ms/step - loss: 2.8019e-06 - val_loss: 7.8044e-04\n",
            "Epoch 11/100\n",
            "71/71 [==============================] - 17s 232ms/step - loss: 2.9236e-06 - val_loss: 7.4838e-04\n",
            "Epoch 12/100\n",
            "71/71 [==============================] - 16s 228ms/step - loss: 2.5264e-06 - val_loss: 3.6647e-04\n",
            "Epoch 13/100\n",
            "71/71 [==============================] - 17s 238ms/step - loss: 2.4470e-06 - val_loss: 3.6623e-04\n",
            "Epoch 14/100\n",
            "71/71 [==============================] - 16s 232ms/step - loss: 2.6324e-06 - val_loss: 3.6584e-04\n",
            "Epoch 15/100\n",
            "71/71 [==============================] - 16s 229ms/step - loss: 2.0854e-06 - val_loss: 5.0952e-04\n",
            "Epoch 16/100\n",
            "71/71 [==============================] - 16s 227ms/step - loss: 1.9969e-06 - val_loss: 2.9042e-04\n",
            "Epoch 17/100\n",
            "71/71 [==============================] - 16s 225ms/step - loss: 2.1262e-06 - val_loss: 2.7843e-04\n",
            "Epoch 18/100\n",
            "71/71 [==============================] - 16s 226ms/step - loss: 2.1509e-06 - val_loss: 3.3815e-04\n",
            "Epoch 19/100\n",
            "71/71 [==============================] - 16s 219ms/step - loss: 2.0131e-06 - val_loss: 2.6039e-04\n",
            "Epoch 20/100\n",
            "71/71 [==============================] - 16s 220ms/step - loss: 2.3414e-06 - val_loss: 3.2718e-04\n",
            "Epoch 21/100\n",
            "71/71 [==============================] - 16s 225ms/step - loss: 1.7582e-06 - val_loss: 5.5447e-04\n",
            "Epoch 22/100\n",
            "71/71 [==============================] - 17s 240ms/step - loss: 2.1890e-06 - val_loss: 3.1250e-04\n",
            "Epoch 23/100\n",
            "71/71 [==============================] - 16s 222ms/step - loss: 2.2861e-06 - val_loss: 4.0715e-04\n",
            "Epoch 24/100\n",
            "71/71 [==============================] - 16s 221ms/step - loss: 1.7544e-06 - val_loss: 4.1047e-04\n",
            "Epoch 25/100\n",
            "71/71 [==============================] - 16s 226ms/step - loss: 2.3810e-06 - val_loss: 4.4305e-04\n",
            "Epoch 26/100\n",
            "71/71 [==============================] - 16s 226ms/step - loss: 1.9759e-06 - val_loss: 4.7055e-04\n",
            "Epoch 27/100\n",
            "71/71 [==============================] - 16s 221ms/step - loss: 1.9891e-06 - val_loss: 2.8793e-04\n",
            "Epoch 28/100\n",
            "71/71 [==============================] - 16s 220ms/step - loss: 1.4725e-06 - val_loss: 4.0039e-04\n",
            "Epoch 29/100\n",
            "71/71 [==============================] - 16s 227ms/step - loss: 1.6790e-06 - val_loss: 3.8751e-04\n",
            "Epoch 30/100\n",
            "71/71 [==============================] - 16s 224ms/step - loss: 1.4909e-06 - val_loss: 4.0974e-04\n",
            "Epoch 31/100\n",
            "71/71 [==============================] - 16s 220ms/step - loss: 1.9845e-06 - val_loss: 3.6047e-04\n",
            "Epoch 32/100\n",
            "71/71 [==============================] - 17s 237ms/step - loss: 1.9200e-06 - val_loss: 4.6691e-04\n",
            "Epoch 33/100\n",
            "71/71 [==============================] - 16s 231ms/step - loss: 1.8221e-06 - val_loss: 2.4101e-04\n",
            "Epoch 34/100\n",
            "71/71 [==============================] - 16s 220ms/step - loss: 1.4730e-06 - val_loss: 3.4338e-04\n",
            "Epoch 35/100\n",
            "71/71 [==============================] - 16s 221ms/step - loss: 1.4266e-06 - val_loss: 2.8915e-04\n",
            "Epoch 36/100\n",
            "71/71 [==============================] - 16s 221ms/step - loss: 1.7845e-06 - val_loss: 2.8028e-04\n",
            "Epoch 37/100\n",
            "71/71 [==============================] - 17s 234ms/step - loss: 1.8761e-06 - val_loss: 2.4378e-04\n",
            "Epoch 38/100\n",
            "71/71 [==============================] - 16s 223ms/step - loss: 1.4030e-06 - val_loss: 2.2195e-04\n",
            "Epoch 39/100\n",
            "71/71 [==============================] - 16s 228ms/step - loss: 1.5652e-06 - val_loss: 2.4220e-04\n",
            "Epoch 40/100\n",
            "71/71 [==============================] - 16s 227ms/step - loss: 1.2839e-06 - val_loss: 2.6223e-04\n",
            "Epoch 41/100\n",
            "71/71 [==============================] - 16s 228ms/step - loss: 1.4675e-06 - val_loss: 2.3035e-04\n",
            "Epoch 42/100\n",
            "71/71 [==============================] - 17s 237ms/step - loss: 1.3946e-06 - val_loss: 2.1201e-04\n",
            "Epoch 43/100\n",
            "71/71 [==============================] - 16s 221ms/step - loss: 1.5245e-06 - val_loss: 3.8942e-04\n",
            "Epoch 44/100\n",
            "71/71 [==============================] - 16s 231ms/step - loss: 1.6259e-06 - val_loss: 5.0525e-04\n",
            "Epoch 45/100\n",
            "71/71 [==============================] - 16s 220ms/step - loss: 1.4571e-06 - val_loss: 3.0097e-04\n",
            "Epoch 46/100\n",
            "71/71 [==============================] - 16s 220ms/step - loss: 1.5638e-06 - val_loss: 0.0014\n",
            "Epoch 47/100\n",
            "71/71 [==============================] - 16s 221ms/step - loss: 1.6840e-06 - val_loss: 3.3869e-04\n",
            "Epoch 48/100\n",
            "71/71 [==============================] - 19s 264ms/step - loss: 1.0817e-06 - val_loss: 2.4200e-04\n",
            "Epoch 49/100\n",
            "71/71 [==============================] - 16s 221ms/step - loss: 1.2596e-06 - val_loss: 3.2203e-04\n",
            "Epoch 50/100\n",
            "71/71 [==============================] - 16s 220ms/step - loss: 1.4538e-06 - val_loss: 2.2907e-04\n",
            "Epoch 51/100\n",
            "71/71 [==============================] - 18s 249ms/step - loss: 1.0246e-06 - val_loss: 2.0110e-04\n",
            "Epoch 52/100\n",
            "71/71 [==============================] - 16s 221ms/step - loss: 1.2764e-06 - val_loss: 5.2922e-04\n",
            "Epoch 53/100\n",
            "71/71 [==============================] - 16s 220ms/step - loss: 1.5353e-06 - val_loss: 1.8623e-04\n",
            "Epoch 54/100\n",
            "71/71 [==============================] - 16s 222ms/step - loss: 1.2670e-06 - val_loss: 1.9613e-04\n",
            "Epoch 55/100\n",
            "71/71 [==============================] - 16s 232ms/step - loss: 1.1777e-06 - val_loss: 3.9287e-04\n",
            "Epoch 56/100\n",
            "71/71 [==============================] - 16s 220ms/step - loss: 1.3788e-06 - val_loss: 1.6851e-04\n",
            "Epoch 57/100\n",
            "71/71 [==============================] - 16s 221ms/step - loss: 1.2736e-06 - val_loss: 3.6131e-04\n",
            "Epoch 58/100\n",
            "71/71 [==============================] - 16s 222ms/step - loss: 1.1985e-06 - val_loss: 2.6436e-04\n",
            "Epoch 59/100\n",
            "71/71 [==============================] - 16s 232ms/step - loss: 9.8350e-07 - val_loss: 4.1544e-04\n",
            "Epoch 60/100\n",
            "71/71 [==============================] - 16s 222ms/step - loss: 1.1027e-06 - val_loss: 1.6392e-04\n",
            "Epoch 61/100\n",
            "71/71 [==============================] - 17s 239ms/step - loss: 1.1593e-06 - val_loss: 3.3938e-04\n",
            "Epoch 62/100\n",
            "71/71 [==============================] - 16s 220ms/step - loss: 1.1226e-06 - val_loss: 2.3023e-04\n",
            "Epoch 63/100\n",
            "71/71 [==============================] - 16s 232ms/step - loss: 1.0364e-06 - val_loss: 2.0997e-04\n",
            "Epoch 64/100\n",
            "71/71 [==============================] - 15s 219ms/step - loss: 1.2644e-06 - val_loss: 1.6100e-04\n",
            "Epoch 65/100\n",
            "71/71 [==============================] - 16s 227ms/step - loss: 1.0099e-06 - val_loss: 2.7547e-04\n",
            "Epoch 66/100\n",
            "71/71 [==============================] - 16s 222ms/step - loss: 1.5091e-06 - val_loss: 1.5715e-04\n",
            "Epoch 67/100\n",
            "71/71 [==============================] - 16s 232ms/step - loss: 1.1828e-06 - val_loss: 1.6218e-04\n",
            "Epoch 68/100\n",
            "71/71 [==============================] - 16s 221ms/step - loss: 1.0780e-06 - val_loss: 1.6905e-04\n",
            "Epoch 69/100\n",
            "71/71 [==============================] - 16s 222ms/step - loss: 1.0182e-06 - val_loss: 4.6184e-04\n",
            "Epoch 70/100\n",
            "71/71 [==============================] - 16s 221ms/step - loss: 1.0173e-06 - val_loss: 1.8589e-04\n",
            "Epoch 71/100\n",
            "71/71 [==============================] - 17s 243ms/step - loss: 8.7794e-07 - val_loss: 2.1046e-04\n",
            "Epoch 72/100\n",
            "71/71 [==============================] - 16s 223ms/step - loss: 1.0290e-06 - val_loss: 1.9836e-04\n",
            "Epoch 73/100\n",
            "71/71 [==============================] - 16s 222ms/step - loss: 1.0739e-06 - val_loss: 2.0467e-04\n",
            "Epoch 74/100\n",
            "71/71 [==============================] - 16s 221ms/step - loss: 8.2533e-07 - val_loss: 2.3805e-04\n",
            "Epoch 75/100\n",
            "71/71 [==============================] - 19s 265ms/step - loss: 8.7065e-07 - val_loss: 1.3679e-04\n",
            "Epoch 76/100\n",
            "71/71 [==============================] - 16s 221ms/step - loss: 1.1070e-06 - val_loss: 4.3574e-04\n",
            "Epoch 77/100\n",
            "71/71 [==============================] - 16s 228ms/step - loss: 1.0376e-06 - val_loss: 1.6581e-04\n",
            "Epoch 78/100\n",
            "71/71 [==============================] - 19s 264ms/step - loss: 8.3495e-07 - val_loss: 1.5823e-04\n",
            "Epoch 79/100\n",
            "71/71 [==============================] - 16s 221ms/step - loss: 8.5806e-07 - val_loss: 1.6134e-04\n",
            "Epoch 80/100\n",
            "71/71 [==============================] - 17s 238ms/step - loss: 9.0305e-07 - val_loss: 1.3002e-04\n",
            "Epoch 81/100\n",
            "71/71 [==============================] - 16s 227ms/step - loss: 8.6077e-07 - val_loss: 1.6404e-04\n",
            "Epoch 82/100\n",
            "71/71 [==============================] - 16s 226ms/step - loss: 9.1402e-07 - val_loss: 2.9191e-04\n",
            "Epoch 83/100\n",
            "71/71 [==============================] - 16s 220ms/step - loss: 9.0840e-07 - val_loss: 1.6299e-04\n",
            "Epoch 84/100\n",
            "71/71 [==============================] - 16s 221ms/step - loss: 8.7186e-07 - val_loss: 1.3420e-04\n",
            "Epoch 85/100\n",
            "71/71 [==============================] - 16s 229ms/step - loss: 1.1155e-06 - val_loss: 1.3231e-04\n",
            "Epoch 86/100\n",
            "71/71 [==============================] - 16s 223ms/step - loss: 9.2035e-07 - val_loss: 1.3342e-04\n",
            "Epoch 87/100\n",
            "71/71 [==============================] - 16s 221ms/step - loss: 7.0442e-07 - val_loss: 1.4402e-04\n",
            "Epoch 88/100\n",
            "71/71 [==============================] - 16s 222ms/step - loss: 8.8716e-07 - val_loss: 1.1632e-04\n",
            "Epoch 89/100\n",
            "71/71 [==============================] - 19s 273ms/step - loss: 8.2070e-07 - val_loss: 1.6982e-04\n",
            "Epoch 90/100\n",
            "71/71 [==============================] - 16s 220ms/step - loss: 6.7236e-07 - val_loss: 1.1601e-04\n",
            "Epoch 91/100\n",
            "71/71 [==============================] - 16s 221ms/step - loss: 7.1129e-07 - val_loss: 1.3420e-04\n",
            "Epoch 92/100\n",
            "71/71 [==============================] - 16s 225ms/step - loss: 7.9843e-07 - val_loss: 1.1455e-04\n",
            "Epoch 93/100\n",
            "71/71 [==============================] - 17s 235ms/step - loss: 9.9039e-07 - val_loss: 3.8470e-04\n",
            "Epoch 94/100\n",
            "71/71 [==============================] - 16s 220ms/step - loss: 8.1278e-07 - val_loss: 2.4365e-04\n",
            "Epoch 95/100\n",
            "71/71 [==============================] - 16s 222ms/step - loss: 9.2728e-07 - val_loss: 1.0919e-04\n",
            "Epoch 96/100\n",
            "71/71 [==============================] - 16s 228ms/step - loss: 1.0635e-06 - val_loss: 1.6423e-04\n",
            "Epoch 97/100\n",
            "71/71 [==============================] - 16s 225ms/step - loss: 6.2402e-07 - val_loss: 1.8927e-04\n",
            "Epoch 98/100\n",
            "71/71 [==============================] - 16s 223ms/step - loss: 7.0079e-07 - val_loss: 1.9752e-04\n",
            "Epoch 99/100\n",
            "71/71 [==============================] - 17s 238ms/step - loss: 5.8618e-07 - val_loss: 1.2202e-04\n",
            "Epoch 100/100\n",
            "71/71 [==============================] - 16s 233ms/step - loss: 7.7388e-07 - val_loss: 1.0298e-04\n"
          ]
        },
        {
          "output_type": "execute_result",
          "data": {
            "text/plain": [
              "<keras.callbacks.History at 0x7b3bd0523eb0>"
            ]
          },
          "metadata": {},
          "execution_count": 41
        }
      ]
    },
    {
      "cell_type": "code",
      "source": [
        "### Lets Do the prediction and check performance metrics\n",
        "train_predict=model.predict(X_train)\n",
        "test_predict=model.predict(X_test)"
      ],
      "metadata": {
        "colab": {
          "base_uri": "https://localhost:8080/"
        },
        "id": "nrAipCSMETMC",
        "outputId": "9a26b542-0f32-4207-f307-5b2527be0ff8"
      },
      "execution_count": 42,
      "outputs": [
        {
          "output_type": "stream",
          "name": "stdout",
          "text": [
            "142/142 [==============================] - 15s 86ms/step\n",
            "75/75 [==============================] - 3s 39ms/step\n"
          ]
        }
      ]
    },
    {
      "cell_type": "code",
      "source": [
        "##Transformback to original form\n",
        "train_predict=scaler.inverse_transform(train_predict)\n",
        "test_predict=scaler.inverse_transform(test_predict)"
      ],
      "metadata": {
        "id": "A939Vx_bLxBu"
      },
      "execution_count": 43,
      "outputs": []
    },
    {
      "cell_type": "code",
      "source": [
        "### Calculate RMSE performance metrics\n",
        "import math\n",
        "from sklearn.metrics import mean_squared_error\n",
        "math.sqrt(mean_squared_error(y_train,train_predict))"
      ],
      "metadata": {
        "colab": {
          "base_uri": "https://localhost:8080/"
        },
        "id": "BgX4FCRjL5O0",
        "outputId": "adcbdb1a-e224-45b7-e740-8d5df21fea12"
      },
      "execution_count": 44,
      "outputs": [
        {
          "output_type": "execute_result",
          "data": {
            "text/plain": [
              "5.045467965748594"
            ]
          },
          "metadata": {},
          "execution_count": 44
        }
      ]
    },
    {
      "cell_type": "code",
      "source": [
        "### Test Data RMSE\n",
        "math.sqrt(mean_squared_error(ytest,test_predict))"
      ],
      "metadata": {
        "colab": {
          "base_uri": "https://localhost:8080/"
        },
        "id": "zEPBR3MXL8Pu",
        "outputId": "55b67046-4264-40f0-992c-fa1d3d805ff8"
      },
      "execution_count": 45,
      "outputs": [
        {
          "output_type": "execute_result",
          "data": {
            "text/plain": [
              "68.31450175267311"
            ]
          },
          "metadata": {},
          "execution_count": 45
        }
      ]
    },
    {
      "cell_type": "code",
      "source": [
        "### Plotting\n",
        "# shift train predictions for plotting\n",
        "look_back=100\n",
        "trainPredictPlot = numpy.empty_like(df1)\n",
        "trainPredictPlot[:, :] = np.nan\n",
        "trainPredictPlot[look_back:len(train_predict)+look_back, :] = train_predict\n",
        "# shift test predictions for plotting\n",
        "testPredictPlot = numpy.empty_like(df1)\n",
        "testPredictPlot[:, :] = numpy.nan\n",
        "testPredictPlot[len(train_predict)+(look_back*2)+1:len(df1)-1, :] = test_predict\n",
        "# plot baseline and predictions\n",
        "plt.plot(scaler.inverse_transform(df1))\n",
        "plt.plot(trainPredictPlot)\n",
        "plt.plot(testPredictPlot)\n",
        "plt.show()"
      ],
      "metadata": {
        "colab": {
          "base_uri": "https://localhost:8080/",
          "height": 430
        },
        "id": "fEHT7fFzL8mf",
        "outputId": "d55e641a-d3db-4331-ce3c-44a8fdee67e6"
      },
      "execution_count": 46,
      "outputs": [
        {
          "output_type": "display_data",
          "data": {
            "text/plain": [
              "<Figure size 640x480 with 1 Axes>"
            ],
            "image/png": "[encoded data removed]"
          },
          "metadata": {}
        }
      ]
    },
    {
      "cell_type": "code",
      "source": [],
      "metadata": {
        "id": "FzM1hzVTO7qj"
      },
      "execution_count": null,
      "outputs": []
    }
  ],
  "metadata": {
    "colab": {
      "provenance": []
    },
    "kernelspec": {
      "display_name": "Python 3",
      "name": "python3"
    },
    "language_info": {
      "name": "python"
    }
  },
  "nbformat": 4,
  "nbformat_minor": 0
}